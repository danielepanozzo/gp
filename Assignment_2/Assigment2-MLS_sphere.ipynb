{
 "cells": [
  {
   "cell_type": "markdown",
   "metadata": {},
   "source": [
    "## Assignment 2\n",
    "In this exercise you will:\n",
    " * Compute an implicit MLS function approximating a 3D point cloud with given (but possibly unnormalized) normals.\n",
    " * Sample the implicit function on a 3D volumetric grid.\n",
    " * Apply the marching tets algorithm to extract a triangle mesh of this zero level set.\n",
    " * Experiment with various MLS reconstruction parameters.\n",
    "\n",
    "Your main task is to construct an implicit function `f(x)` defined on all `x`  R<sup>3</sup> whose zero level set contains (or at least passes near) each input point. That is, for every point `pi` in the point cloud, we want `f(pi) = 0`. Furthermore, `∂f` (the isosurface normal) evaluated at each point cloud location should approximate the point's normal provided as input."
   ]
  },
  {
   "cell_type": "code",
   "execution_count": 1,
   "metadata": {
    "scrolled": true
   },
   "outputs": [],
   "source": [
    "import numpy as np\n",
    "import igl\n",
    "import meshplot as mp\n",
    "import math\n",
    "import matplotlib.pyplot as plt"
   ]
  },
  {
   "cell_type": "code",
   "execution_count": 2,
   "metadata": {
    "scrolled": true
   },
   "outputs": [],
   "source": [
    "# Utility function to generate a tet grid\n",
    "# n is a 3-tuple with the number of cell in every direction\n",
    "# mmin/mmax are the grid bounding box corners\n",
    "# returns V - vertices of the grid\n",
    "\n",
    "def tet_grid(n, mmin, mmax):\n",
    "    nx = n[0]\n",
    "    ny = n[1]\n",
    "    nz = n[2]\n",
    "    \n",
    "    delta = mmax-mmin\n",
    "    \n",
    "    deltax = delta[0]/(nx-1)\n",
    "    deltay = delta[1]/(ny-1)\n",
    "    deltaz = delta[2]/(nz-1)\n",
    "    \n",
    "    T = np.zeros(((nx-1)*(ny-1)*(nz-1)*6, 4), dtype=np.int64)\n",
    "    V = np.zeros((nx*ny*nz, 3))\n",
    "\n",
    "    mapping = -np.ones((nx, ny, nz), dtype=np.int64)\n",
    "\n",
    "\n",
    "    index = 0\n",
    "    for i in range(nx):\n",
    "        for j in range(ny):\n",
    "            for k in range(nz):\n",
    "                mapping[i, j, k] = index\n",
    "                V[index, :] = [i*deltax, j*deltay, k*deltaz]\n",
    "                index += 1\n",
    "    assert(index == V.shape[0])\n",
    "    \n",
    "    tets = np.array([\n",
    "        [0,1,3,4],\n",
    "        [5,2,6,7],\n",
    "        [4,1,5,3],\n",
    "        [4,3,7,5],\n",
    "        [3,1,5,2],\n",
    "        [2,3,7,5]\n",
    "    ])\n",
    "    \n",
    "    index = 0\n",
    "    for i in range(nx-1):\n",
    "        for j in range(ny-1):\n",
    "            for k in range(nz-1):\n",
    "                indices = [\n",
    "                    (i,   j,   k),\n",
    "                    (i+1, j,   k),\n",
    "                    (i+1, j+1, k),\n",
    "                    (i,   j+1, k),\n",
    "\n",
    "                    (i,   j,   k+1),\n",
    "                    (i+1, j,   k+1),\n",
    "                    (i+1, j+1, k+1),\n",
    "                    (i,   j+1, k+1),\n",
    "                ]\n",
    "                \n",
    "                for t in range(tets.shape[0]):\n",
    "                    tmp = [mapping[indices[ii]] for ii in tets[t, :]]\n",
    "                    T[index, :]=tmp\n",
    "                    index += 1\n",
    "                    \n",
    "    assert(index == T.shape[0])\n",
    "    \n",
    "    V += mmin\n",
    "    return V, T"
   ]
  },
  {
   "cell_type": "markdown",
   "metadata": {},
   "source": [
    "# Reading point cloud"
   ]
  },
  {
   "cell_type": "code",
   "execution_count": 84,
   "metadata": {
    "scrolled": true
   },
   "outputs": [],
   "source": [
    "# pi, v = igl.read_triangle_mesh(\"data/cat.off\")\n",
    "# pi /= 10\n",
    "# ni = igl.per_vertex_normals(pi, v)\n",
    "# mp.plot(pi, shading={\"point_size\": 8})"
   ]
  },
  {
   "cell_type": "code",
   "execution_count": 3,
   "metadata": {},
   "outputs": [
    {
     "data": {
      "application/vnd.jupyter.widget-view+json": {
       "model_id": "957bdecde27a418b8a4409ad0853eea6",
       "version_major": 2,
       "version_minor": 0
      },
      "text/plain": [
       "Renderer(camera=PerspectiveCamera(children=(DirectionalLight(color='white', intensity=0.6, position=(0.0, 0.0,…"
      ]
     },
     "metadata": {},
     "output_type": "display_data"
    },
    {
     "data": {
      "text/plain": [
       "<meshplot.Viewer.Viewer at 0x103c7fbc0>"
      ]
     },
     "execution_count": 3,
     "metadata": {},
     "output_type": "execute_result"
    }
   ],
   "source": [
    "pi, v = igl.read_triangle_mesh(\"data/sphere.obj\")\n",
    "ni = igl.per_vertex_normals(pi, v)\n",
    "mp.plot(pi, shading={\"point_size\": .1})"
   ]
  },
  {
   "cell_type": "markdown",
   "metadata": {},
   "source": [
    "## Setting up Constraints\n",
    "Your first step is to build the set of constraint equations by choosing constraint locations and values. Naturally, each point `pi` in the input point cloud should contribute a constraint with target value `f(pi) = di = 0`. But these constraints alone provide no information to distinguish the object's inside (where we want `f < 0`) from its outside (where we want `f > 0`). Even worse, the minimization is likely to find the trivial solution `f = 0` (if it lies in the space of admissible functions). To address these problems, we introduce additional constraints incorporating information from the normals as follows:\n",
    "\n",
    "  * For each point `pi` in the point cloud, add a constraint of the form `f(pi) = di = 0`.\n",
    "  * Fix an `eps` value, for instance `eps = 0.01 bounding_box_diagonal`.\n",
    "  * For each point `pi` compute `pi+ = pi + eps ni`, where `ni` is the normalized normal of `pi`. Check that `pi` is the closest point to `pi+` if not, halve `eps` and recompute `pi+` until this is the case.\n",
    "    Then, add another constraint equation: `f(pi+) = eps`.\n",
    "  * Repeat the same process for `-eps`, i.e., add equations of the form `f(pi-) = -eps`. Do not forget to check each time that `pi` is the closest point to `pi-`.\n",
    "  * Append the tree vectors `pi`, `pi+`, and `pi-` and corresponding `f` to a unique vector `p` and `f`.\n",
    "\n",
    "After these steps, you should have `3n` equations for the implicit function `f(x)`.\n",
    "\n",
    "**Important**: explicitty write a function `find_closed_point(point, points)` that retreives the index of the colosest point to `point` in `points`.\n",
    "\n",
    "![](img/cat.png?raw=true)\n",
    "Input point cloud for the *cat* mesh and inward/outward value constraints. The green, red and blue labels correspond to inside, outside and on the surface respectively. The blue points in the left figure are the same as the black ones in right figure.\n",
    "\n",
    "*Relevant `numpy` functions:* `argmin`, `linalg.norm`.\n",
    "\n",
    "Required output of this section:\n",
    "\n",
    " * Plot of the provided point cloud shaded with green, blue, and red dots."
   ]
  },
  {
   "cell_type": "code",
   "execution_count": 4,
   "metadata": {},
   "outputs": [],
   "source": [
    "def find_closest_point(query_point, point_set):\n",
    "    dist = np.linalg.norm(point_set - query_point, axis=1)\n",
    "    return np.argmin(dist)"
   ]
  },
  {
   "cell_type": "code",
   "execution_count": 5,
   "metadata": {
    "scrolled": true
   },
   "outputs": [],
   "source": [
    "\"\"\"\n",
    "pp = p+ \n",
    "npp = p- \n",
    "\"\"\"\n",
    "def setupConstraints(pis, v, eps, ps):\n",
    "    ni = igl.per_vertex_normals(pis, v)  \n",
    "# the next equation would not be correct for another 2D shape -- ni = pis\n",
    "    f = []\n",
    "    pps = []  # positive points\n",
    "    nps = []  # negative points\n",
    "    for pi in pis: # fill f up to size of points\n",
    "        f.append(0)\n",
    "    # compute p+\n",
    "    for idx, pi in enumerate(pis):\n",
    "        pp = pi + eps * ni[idx]\n",
    "        cp = find_closest_point(pp, pis)\n",
    "        new_eps = eps\n",
    "        while cp != idx:\n",
    "            new_eps /= 2  # Reduce step size\n",
    "            pp = pi + new_eps * ni[idx]\n",
    "            print(\"not closest point!\")\n",
    "            cp = find_closest_point(pp, pis)\n",
    "        pps.append(pp)\n",
    "        f.append(new_eps)\n",
    "    # compute p-\n",
    "    for idx, pi in enumerate(pis):\n",
    "        npp = pi - eps * ni[idx]  # Negative offset\n",
    "        cp = find_closest_point(npp, pis)\n",
    "        new_eps = eps\n",
    "        while cp != idx:\n",
    "            new_eps /= 2\n",
    "            npp = pi - new_eps * ni[idx]\n",
    "            print(\"not closest point!\")\n",
    "            cp = find_closest_point(npp, pis)\n",
    "        nps.append(npp)\n",
    "        f.append(-new_eps)       \n",
    "    p=np.concatenate((pis, pps, nps), axis=0)\n",
    "\n",
    "    # # must be numpy arrays to visualize \n",
    "    pps = np.array(pps) \n",
    "    nps = np.array(nps) \n",
    "    print(\"length of p = 3n: \", len(p) == (len(pis)+len(pps)+len(nps))) #check to make sure p is correct\n",
    "    print(\"length of f = 3n: \", len(f) == (len(pis)*3)) #check to make sure f is correct\n",
    "    # plot 3 set of points\n",
    "    plot = mp.plot(pis, shading={\"point_color\": \"blue\", \"point_size\": ps}) # blue = on surface\n",
    "    plot.add_points(pps, shading={\"point_color\": \"red\", \"point_size\": ps}) # red = outside \n",
    "    plot.add_points(nps, shading={\"point_color\": \"green\", \"point_size\": ps}) # green = inside \n",
    "    return p,f"
   ]
  },
  {
   "cell_type": "code",
   "execution_count": 6,
   "metadata": {},
   "outputs": [
    {
     "name": "stdout",
     "output_type": "stream",
     "text": [
      "length of p = 3n:  True\n",
      "length of f = 3n:  True\n"
     ]
    },
    {
     "data": {
      "application/vnd.jupyter.widget-view+json": {
       "model_id": "42b383199a4143adac761eb1e31e92d4",
       "version_major": 2,
       "version_minor": 0
      },
      "text/plain": [
       "Renderer(camera=PerspectiveCamera(children=(DirectionalLight(color='white', intensity=0.6, position=(0.0, 0.0,…"
      ]
     },
     "metadata": {},
     "output_type": "display_data"
    }
   ],
   "source": [
    "eps = .1\n",
    "ps = .1\n",
    "p,f=setupConstraints(pi, v, eps, ps)"
   ]
  },
  {
   "cell_type": "code",
   "execution_count": 15,
   "metadata": {},
   "outputs": [],
   "source": [
    "# cp, cps, cns = setupConstraints(c100,c100,0.01,8)"
   ]
  },
  {
   "cell_type": "code",
   "execution_count": 18,
   "metadata": {},
   "outputs": [],
   "source": [
    "# plot_points(cp, cps, cns)"
   ]
  },
  {
   "cell_type": "markdown",
   "metadata": {},
   "source": [
    "### Create a grid sampling the 3D space\n",
    "Create a regular volumetric grid around your point cloud: compute the axis-aligned bounding box of the point cloud, enlarge it slightly, and divide it into uniform cells (tets). The grid resolution is configured by\n",
    "the global variable `resolution`, which can be changed. *Note* the funciton to generate the grid is provided. We call the grid vertices `x` and the tets connecting them `T`."
   ]
  },
  {
   "cell_type": "code",
   "execution_count": 10,
   "metadata": {},
   "outputs": [],
   "source": [
    "minimum = -float('inf') # temporary value to help us compute the bounding box \n",
    "maximum = float('inf')\n",
    "resolution = 0.05 # we multiply the box diagonal by this when making the tetrahedral gird\n",
    "\n",
    "#function to get margins for bounding box\n",
    "def boundingBox(pis):\n",
    "    min_values = np.min(pis, axis=0)\n",
    "    max_values = np.max(pis, axis=0)\n",
    "    return min_values, max_values\n",
    "\n",
    "def create3dGrid(pis, n, ps_grid, ps_mesh,showCheck=False):\n",
    "    bbox_min, bbox_max = boundingBox(pis) # compute axis-aligned bounding box of the point cloud \n",
    "    print(bbox_min, bbox_max)\n",
    "    box_diag = np.linalg.norm(bbox_max - bbox_min)\n",
    "    x,T = tet_grid((n,n,n), bbox_min-resolution*box_diag, bbox_max + resolution * box_diag)\n",
    "    if(showCheck):# show if object fits inside grid\n",
    "        plot = mp.plot(x, shading={\"point_color\": \"black\",  \"point_size\": ps_grid})\n",
    "        plot.add_points(pis, shading={\"point_color\": \"blue\", \"point_size\": ps_mesh})\n",
    "    return x,T"
   ]
  },
  {
   "cell_type": "markdown",
   "metadata": {},
   "source": [
    "### MLS Interpolation\n",
    "We now use MLS interpolation to construct an implicit function satisfying the constraints as nearly as possible.\n",
    "We won't define the function with an explicit formula; instead we characterize it as the linear combination of polynomial basis functions that best satisfies the constraints in some sense. At a given point `xi` in `x`, you evaluate this function by finding the \"optimal\" basis function coefficients (which will vary from point to point!) and using these to combine the basis function values at `xi`.\n",
    "\n",
    "Complete the appropriate source code sections to evaluate the MLS function at every node `xi` of a regular volumetric\n",
    "grid containing the input point cloud. As an example, the provided code computes the grid values for an implicit function representing a sphere (MLS wasn't used in\n",
    "this case since the formula is known analytically).\n",
    "\n",
    "\n",
    "More specifically, for each grid node `xi` of the grid, evaluate the implicit function `f(xi)`, whose zero level set approximates the point cloud.\n",
    "Use the moving least squares approximation presented in class and in the tutoring session. You should use the\n",
    "Wendland weight function with radius configured by `wendlandRadius` and degree `k = 0, 1, 2` polynomial basis functions configured by `polyDegree`. Only use the constraint points with nonzero weight (i.e., points `p` with `||xi - p|| < wendlandRadius`). *Note* if the number of constraint points within `wendlandRadius` is less than twice the number of polynomial coefficients (i.e., 1 for `k = 0`, 4 for `k = 1`, and 10 for `k = 2`), you can assign a large positive (outside) value to the grid point.\n",
    "\n",
    "Store the field value  `fx = f(xi)` in a  `numpy.array`, using the same ordering as in `x`. Render these values by coloring each grid point red/green depending if they are inside outside (i.e., `fx < 0` or `fx ≥ 0`). You can use the `meshplot.plot(..., c=color)` where `color` is a `n x 3` matrix containing rgb values.\n",
    "\n",
    "**Important**: explicitty write a function `closest_points(point, points, h)` that retreives the indices all points in `points` that are at distance less than `h` from `point`.\n",
    "\n",
    "*Relevant `numpy` functions:* `argwhere`, `linalg.solve`.\n",
    "\n",
    "Required output of this section:\n",
    "\n",
    " * Plot of the grid points `x` colored according of being inside or outside the input cloud.\n"
   ]
  },
  {
   "cell_type": "code",
   "execution_count": 11,
   "metadata": {},
   "outputs": [],
   "source": [
    "\"\"\"\n",
    "Goal: find the best f in the span of chosen basis functions \n",
    "    f(x) = sum_j b_j(x)a_j, where the basis is a polynomial function \n",
    "\"\"\"\n",
    "\"\"\" \n",
    "Compute polynomial basis (at a point) in 2nd degree\n",
    "\n",
    "1,x,y,z,x^2,y^2,z^2,xy,xz,yz\n",
    "\"\"\" \n",
    "def polynomialBasis(point):\n",
    "    x,y,z = point;\n",
    "    return np.array([1,x,y,z,x**2,y**2,z**2,x*y,x*z,y*z])\n",
    "\n",
    "def polynomialBasisMat(x):\n",
    "    B = np.apply_along_axis(polynomialBasis, axis=1, arr=x)\n",
    "    return B\n",
    "    \n",
    "def mls_interpolate(p,f, x,T, wendlandRadius):\n",
    "    # We want to solve (B^TW(x)B)a(x)=B^TW(x)d, where W = wendland weight matrix \n",
    "    # check to make sure p and x have same dimensionality \n",
    "    assert p.shape[1] == x.shape[1]\n",
    "    # 1. Compute B (the polynomial basis of p) -- polynomial 3d basis = 1,x,y,z,x^2,y^2,z^2,xy,xz,yz\n",
    "    B = polynomialBasisMat(p)\n",
    "    # print(\"Shape of B: \", B.shape)\n",
    "\n",
    "    # 2. Compute W  -- for each evaluation point, evaluate pi, in p, W_ii = w||x-p_i||\n",
    "    ##  x[:, None, :] has shape (k, 1, d)\n",
    "    ##  p[None, :, :] has shape (1, 3n, d)\n",
    "    ##  resulting distances have shape (k, 3n)\n",
    "    print(\"new x shape: \", x[:, None, :].shape)\n",
    "    print(\"new p shape: \", p[None, :, :].shape)\n",
    "    distances = np.linalg.norm(x[:, None, :] - p[None, :, :], axis=2) # using numpy broadcasting\n",
    "    print(\"Distances shape: \", distances.shape)\n",
    "    weights = wendland(distances, wendlandRadius) # getting the wendland weights for all distances at once\n",
    "    print(\"weights shape: \", weights.shape)\n",
    "    print(weights)\n",
    "    # For each point x compute a, and then fx\n",
    "    fx = np.zeros(len(x))\n",
    "    for i in range(len(x)):\n",
    "        W_i = np.diag(weights[i]) # computing wendland matrix \n",
    "        if (i==1):\n",
    "            print(\"Wi shape:\", W_i.shape)\n",
    "            print(\"weights[i] shape: \", weights[i].shape)\n",
    "        BTW = B.T @ W_i\n",
    "        lhs = BTW @ f\n",
    "        rhs = BTW @ B\n",
    "        # print(\"BTW shape: \", BTW.shape)\n",
    "        # print(\"lhs shape: \", lhs.shape)\n",
    "        # print(\"rhs shape: \", rhs.shape)\n",
    "        coeff = np.linalg.solve(rhs, lhs)\n",
    "        # now we have to compute f(x) at every point for every a \n",
    "        basis_at_x_i = polynomialBasis(x[i])\n",
    "        fx[i] = np.dot(basis_at_x_i, coeff)\n",
    "        if (fx[i]==0):\n",
    "            print(\"got a zero!\")\n",
    "    return fx\n",
    "\"\"\"\n",
    "returns the indices of the points within distance h of point, point\n",
    "\"\"\"\n",
    "def closest_points(point, points, h):\n",
    "    close_points = []\n",
    "    dist = np.linalg.norm(points - point, axis=1)\n",
    "    for ind, d in enumerate(dist):\n",
    "        if d<h:\n",
    "            close_points.append(ind)\n",
    "    return close_points  \n",
    "\n",
    "\"\"\"\n",
    "Computes wendland weight \n",
    "r is the Euclidean distance from the evaluation point.\n",
    "h (the Wendland radius) defines the range of influence.\n",
    "\"\"\"\n",
    "def wendland(r, h):\n",
    "    return np.maximum(0,(1-r/h)**4*(4*r/h+1)) "
   ]
  },
  {
   "cell_type": "code",
   "execution_count": 12,
   "metadata": {},
   "outputs": [
    {
     "name": "stdout",
     "output_type": "stream",
     "text": [
      "[-0.8 -0.8 -0.8] [0.8 0.8 0.8]\n"
     ]
    },
    {
     "data": {
      "application/vnd.jupyter.widget-view+json": {
       "model_id": "21c497f28af84f098b66f886cc018e8a",
       "version_major": 2,
       "version_minor": 0
      },
      "text/plain": [
       "Renderer(camera=PerspectiveCamera(children=(DirectionalLight(color='white', intensity=0.6, position=(0.0, 0.0,…"
      ]
     },
     "metadata": {},
     "output_type": "display_data"
    },
    {
     "name": "stdout",
     "output_type": "stream",
     "text": [
      "(27000, 3)\n"
     ]
    }
   ],
   "source": [
    "x, T = create3dGrid(p, 30, .03,.1,True)\n",
    "print(x.shape)"
   ]
  },
  {
   "cell_type": "code",
   "execution_count": 115,
   "metadata": {
    "scrolled": true
   },
   "outputs": [
    {
     "name": "stdout",
     "output_type": "stream",
     "text": [
      "(27000, 3)\n",
      "new x shape:  (27000, 1, 3)\n",
      "new p shape:  (1, 1146, 3)\n",
      "Distances shape:  (27000, 1146)\n",
      "weights shape:  (27000, 1146)\n",
      "[[2.16439569e+16 1.93410671e+16 1.70853027e+16 ... 1.52227375e+17\n",
      "  1.92398595e+16 1.38314082e+17]\n",
      " [1.86680884e+16 1.66579172e+16 1.46684840e+16 ... 1.42021783e+17\n",
      "  1.63707342e+16 1.28694433e+17]\n",
      " [1.61450548e+16 1.43913745e+16 1.26356853e+16 ... 1.32922568e+17\n",
      "  1.39515159e+16 1.20131887e+17]\n",
      " ...\n",
      " [1.32896172e+17 1.39418148e+17 1.46655850e+17 ... 1.07903377e+16\n",
      "  1.20131887e+17 1.39515159e+16]\n",
      " [1.42359258e+17 1.49500061e+17 1.57327982e+17 ... 1.28727622e+16\n",
      "  1.28694433e+17 1.63707342e+16]\n",
      " [1.52960216e+17 1.60774519e+17 1.69244342e+17 ... 1.53665296e+16\n",
      "  1.38314082e+17 1.92398595e+16]]\n",
      "Wi shape: (1146, 1146)\n",
      "weights[i] shape:  (1146,)\n"
     ]
    }
   ],
   "source": [
    "print(x.shape)\n",
    "fx = mls_interpolate(p,f, x,T, 0.001)"
   ]
  },
  {
   "cell_type": "code",
   "execution_count": 94,
   "metadata": {},
   "outputs": [
    {
     "data": {
      "application/vnd.jupyter.widget-view+json": {
       "model_id": "74f6d7d156ab4893bd34431e52888c3e",
       "version_major": 2,
       "version_minor": 0
      },
      "text/plain": [
       "Renderer(camera=PerspectiveCamera(children=(DirectionalLight(color='white', intensity=0.6, position=(-8.940696…"
      ]
     },
     "metadata": {},
     "output_type": "display_data"
    },
    {
     "data": {
      "text/plain": [
       "<meshplot.Viewer.Viewer at 0x1170e1f40>"
      ]
     },
     "execution_count": 94,
     "metadata": {},
     "output_type": "execute_result"
    }
   ],
   "source": [
    "# Marcing tet to extract surface\n",
    "\"\"\"\n",
    "Inputs: \n",
    "\n",
    "TV #tet_vertices x 3 array – The vertices of the tetrahedral mesh --> x \n",
    "TT #tets x 4 array – The indexes of each tet in the tetrahedral mesh --> t\n",
    "S #tet_vertices x 1 array – The values defined on each tet vertex -- \n",
    "isovalue scalar – The isovalue of the level set we want to compute\n",
    "\"\"\"\n",
    "sv, sf, _, _ = igl.marching_tets(x, T, fx, 0) ## SV AND SF ARE THE VERTICES\n",
    "mp.plot(sv, sf, shading={\"wireframe\": True})"
   ]
  },
  {
   "cell_type": "markdown",
   "metadata": {},
   "source": [
    "## Implementing a spatial index to accelerate neighbor calculations\n",
    "\n",
    "To construct the MLS equations, you will perform queries\n",
    "to find, for a query point `q`:\n",
    "\n",
    "    * the closest input point to `q` (needed while constructing inside/outside offset points); and\n",
    "    * all input points within distance `h` of `q` (needed to select constraints with nonzero weight).\n",
    "\n",
    "\n",
    "Although a simple loop over all points could answer these queries, it would be slow for large point clouds.\n",
    "Improve the efficiency by implementing a simple spatial index (a uniform grid at some resolution). By this, we mean binning vertices into their enclosing grid cells and restricting the neighbor queries to visit only the grid cells that could possibly satisfy the query. You can debug\n",
    "this data structure by ensuring that it agrees with the brute-force for loop implementation.\n",
    "\n",
    "This part requires changing the two fucntion `find_closed_point` and `closest_points`."
   ]
  },
  {
   "cell_type": "markdown",
   "metadata": {},
   "source": [
    "## Using a non-axis-aligned grid.\n",
    "The point cloud `luigi.off` is not aligned with the canonical axes.\n",
    "Running reconstruction on an axis-aligned grid is wasteful in this case: many of the grid points will lie far outside the object. Devise an automatic (and general) way to align the grid to the data and implement it.\n",
    "\n",
    "Required output of this section:\n",
    "\n",
    "* Plot of the grid with nodes colored according to their implicit function values"
   ]
  },
  {
   "cell_type": "markdown",
   "metadata": {},
   "source": [
    "## Extracting the surface\n",
    "You can now use marching tets to extract the zero isosurface from your grid.\n",
    "The extraction has already been implemented and the surface is displayed. The implicit function obtained from MLS might be noisy and the reconstructed mesh will contain several pieces. Filter out and keep the largest component.\n",
    "\n",
    "![](img/cat-recon.png?raw=true)\n",
    "\n",
    "*Relevant `igl` functions:* `marching_tets`, `face_components`.\n",
    "\n",
    "\n",
    "Required output of this section:\n",
    "\n",
    "* Plot of the reconstructed surfaces. Experiment with different parameter settings: grid resolution (also anisotropic in the 3 axes), Wendland function radius, and polynomial degree.\n"
   ]
  },
  {
   "cell_type": "markdown",
   "metadata": {},
   "source": [
    "## MLS function"
   ]
  },
  {
   "cell_type": "code",
   "execution_count": 48,
   "metadata": {
    "scrolled": true
   },
   "outputs": [],
   "source": [
    "# Parameters\n",
    "bbox_min = np.array([-1., -1., -1.])\n",
    "bbox_max = np.array([1., 1., 1.])\n",
    "bbox_diag = np.linalg.norm(bbox_max - bbox_min)\n",
    "\n",
    "n = 10"
   ]
  },
  {
   "cell_type": "code",
   "execution_count": 51,
   "metadata": {
    "scrolled": true
   },
   "outputs": [
    {
     "name": "stdout",
     "output_type": "stream",
     "text": [
      "(1000, 3)\n",
      "(1000,)\n"
     ]
    }
   ],
   "source": [
    "# Generate grid n x n x n\n",
    "\n",
    "x, T = tet_grid((n, n, n), bbox_min - 0.05 * bbox_diag, bbox_max + 0.05 * bbox_diag)\n",
    "\n",
    "#Compute implicit sphere function\n",
    "\n",
    "center = np.array([0., 0., 0.])\n",
    "radius = 1\n",
    "fx = np.linalg.norm(x-center, axis=1) - radius ## THIS IS WHERE WE WILL PUT IN THE MLS \n",
    "print(x.shape)\n",
    "# print(x-center)\n",
    "print(fx.shape)"
   ]
  },
  {
   "cell_type": "code",
   "execution_count": 81,
   "metadata": {},
   "outputs": [
    {
     "data": {
      "application/vnd.jupyter.widget-view+json": {
       "model_id": "435f33c5d62c434890cc1505930a2466",
       "version_major": 2,
       "version_minor": 0
      },
      "text/plain": [
       "Renderer(camera=PerspectiveCamera(children=(DirectionalLight(color='white', intensity=0.6, position=(0.0, 0.0,…"
      ]
     },
     "metadata": {},
     "output_type": "display_data"
    },
    {
     "data": {
      "text/plain": [
       "<meshplot.Viewer.Viewer at 0x10bfbc260>"
      ]
     },
     "execution_count": 81,
     "metadata": {},
     "output_type": "execute_result"
    }
   ],
   "source": [
    "# Threshold fx to visualize inside outside\n",
    "\n",
    "ind = np.zeros_like(fx)\n",
    "ind[fx >= 0] = 1\n",
    "ind[fx < 0] = -1\n",
    "mp.plot(x, c=ind, shading={\"point_size\": 0.1,\"width\": 800, \"height\": 800})"
   ]
  },
  {
   "cell_type": "markdown",
   "metadata": {},
   "source": [
    "## Marching tets to extract surface"
   ]
  },
  {
   "cell_type": "code",
   "execution_count": 90,
   "metadata": {},
   "outputs": [
    {
     "data": {
      "application/vnd.jupyter.widget-view+json": {
       "model_id": "9a8a2ac1d3a14ca7a0076e7ee2e574cf",
       "version_major": 2,
       "version_minor": 0
      },
      "text/plain": [
       "Renderer(camera=PerspectiveCamera(children=(DirectionalLight(color='white', intensity=0.6, position=(0.0, 0.0,…"
      ]
     },
     "metadata": {},
     "output_type": "display_data"
    },
    {
     "data": {
      "text/plain": [
       "<meshplot.Viewer.Viewer at 0x12777abd0>"
      ]
     },
     "execution_count": 90,
     "metadata": {},
     "output_type": "execute_result"
    }
   ],
   "source": [
    "# Marcing tet to extract surface\n",
    "\n",
    "sv, sf, _, _ = igl.marching_tets(x, T, fx, 0) ## SV AND SF ARE THE VERTICES\n",
    "mp.plot(sv, sf, shading={\"wireframe\": True})"
   ]
  },
  {
   "cell_type": "markdown",
   "metadata": {
    "scrolled": true
   },
   "source": [
    "## Optional tasks\n",
    "\n",
    "<!-- * *(2 points)* Compute the closed-form gradient of the MLS approximation. Suggestion: A good strategy to solve this exercise is to write MLS explicitly in matrix form and then compute its gradient (a good reference for differentiating expressions with matrices can be found in [The Matrix Cookbook](http://orion.uwaterloo.ca/~hwolkowi/matrixcookbook.pdf).\n",
    " -->\n",
    "* *(2 points)* In [Interpolating and Approximating Implicit Surfaces from Polygon Soup](http://graphics.berkeley.edu/papers/Shen-IAI-2004-08/index.html) normals are used differently to define the implicit surface. Instead of generating new sample points offset in the positive and negative normal directions, the paper uses the normal to define a linear function for each point cloud point: the signed distance to the tangent plane at the point.\n",
    "Then the values of these linear functions are interpolated by MLS. Implement Section 3.3 of the paper and append to your report a description of the method and how it compares to the original point-value-based approach.\n",
    "Estimate a normal for results obtained with single dataset.\n",
    "\n",
    "* *(1 points)* [Screened Poisson Surface Reconstruction](http://www.cs.jhu.edu/~misha/MyPapers/ToG13.pdf) is a more modern technique that avoids some of the pitfalls of local reconstruction methods. An implementation is provided in [MeshLab](http://www.meshlab.net). A standalone implementation of this method is also provided by the authors [here](http://www.cs.jhu.edu/~misha/Code/PoissonRecon/Version9.01/) with accompanying usage instructions and datasets. Compare your MLS        reconstruction results to the surfaces obtained with this method, and try to understand the differences. Report your findings."
   ]
  },
  {
   "cell_type": "code",
   "execution_count": null,
   "metadata": {},
   "outputs": [],
   "source": []
  }
 ],
 "metadata": {
  "kernelspec": {
   "display_name": "Python 3 (ipykernel)",
   "language": "python",
   "name": "python3"
  },
  "language_info": {
   "codemirror_mode": {
    "name": "ipython",
    "version": 3
   },
   "file_extension": ".py",
   "mimetype": "text/x-python",
   "name": "python",
   "nbconvert_exporter": "python",
   "pygments_lexer": "ipython3",
   "version": "3.12.8"
  }
 },
 "nbformat": 4,
 "nbformat_minor": 4
}
