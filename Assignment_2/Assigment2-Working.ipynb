{
 "cells": [
  {
   "cell_type": "markdown",
   "metadata": {},
   "source": [
    "## Assignment 2\n",
    "In this exercise you will:\n",
    " * Compute an implicit MLS function approximating a 3D point cloud with given (but possibly unnormalized) normals.\n",
    " * Sample the implicit function on a 3D volumetric grid.\n",
    " * Apply the marching tets algorithm to extract a triangle mesh of this zero level set.\n",
    " * Experiment with various MLS reconstruction parameters.\n",
    "\n",
    "Your main task is to construct an implicit function `f(x)` defined on all `x`  R<sup>3</sup> whose zero level set contains (or at least passes near) each input point. That is, for every point `pi` in the point cloud, we want `f(pi) = 0`. Furthermore, `∂f` (the isosurface normal) evaluated at each point cloud location should approximate the point's normal provided as input."
   ]
  },
  {
   "cell_type": "code",
   "execution_count": 3,
   "metadata": {
    "scrolled": true
   },
   "outputs": [],
   "source": [
    "import numpy as np\n",
    "import igl\n",
    "import meshplot as mp"
   ]
  },
  {
   "cell_type": "code",
   "execution_count": 4,
   "metadata": {
    "scrolled": true
   },
   "outputs": [],
   "source": [
    "# Utility function to generate a tet grid\n",
    "# n is a 3-tuple with the number of cell in every direction\n",
    "# mmin/mmax are the grid bounding box corners\n",
    "\n",
    "def tet_grid(n, mmin, mmax):\n",
    "    nx = n[0]\n",
    "    ny = n[1]\n",
    "    nz = n[2]\n",
    "    \n",
    "    delta = mmax-mmin\n",
    "    \n",
    "    deltax = delta[0]/(nx-1)\n",
    "    deltay = delta[1]/(ny-1)\n",
    "    deltaz = delta[2]/(nz-1)\n",
    "    \n",
    "    T = np.zeros(((nx-1)*(ny-1)*(nz-1)*6, 4), dtype=np.int64)\n",
    "    V = np.zeros((nx*ny*nz, 3))\n",
    "\n",
    "    mapping = -np.ones((nx, ny, nz), dtype=np.int64)\n",
    "\n",
    "\n",
    "    index = 0\n",
    "    for i in range(nx):\n",
    "        for j in range(ny):\n",
    "            for k in range(nz):\n",
    "                mapping[i, j, k] = index\n",
    "                V[index, :] = [i*deltax, j*deltay, k*deltaz]\n",
    "                index += 1\n",
    "    assert(index == V.shape[0])\n",
    "    \n",
    "    tets = np.array([\n",
    "        [0,1,3,4],\n",
    "        [5,2,6,7],\n",
    "        [4,1,5,3],\n",
    "        [4,3,7,5],\n",
    "        [3,1,5,2],\n",
    "        [2,3,7,5]\n",
    "    ])\n",
    "    \n",
    "    index = 0\n",
    "    for i in range(nx-1):\n",
    "        for j in range(ny-1):\n",
    "            for k in range(nz-1):\n",
    "                indices = [\n",
    "                    (i,   j,   k),\n",
    "                    (i+1, j,   k),\n",
    "                    (i+1, j+1, k),\n",
    "                    (i,   j+1, k),\n",
    "\n",
    "                    (i,   j,   k+1),\n",
    "                    (i+1, j,   k+1),\n",
    "                    (i+1, j+1, k+1),\n",
    "                    (i,   j+1, k+1),\n",
    "                ]\n",
    "                \n",
    "                for t in range(tets.shape[0]):\n",
    "                    tmp = [mapping[indices[ii]] for ii in tets[t, :]]\n",
    "                    T[index, :]=tmp\n",
    "                    index += 1\n",
    "                    \n",
    "    assert(index == T.shape[0])\n",
    "    \n",
    "    V += mmin\n",
    "    return V, T"
   ]
  },
  {
   "cell_type": "markdown",
   "metadata": {},
   "source": [
    "# Reading point cloud"
   ]
  },
  {
   "cell_type": "code",
   "execution_count": 5,
   "metadata": {
    "scrolled": true
   },
   "outputs": [
    {
     "data": {
      "application/vnd.jupyter.widget-view+json": {
       "model_id": "f994d0e59ae841a88b3b5eeef4707d2a",
       "version_major": 2,
       "version_minor": 0
      },
      "text/plain": [
       "Renderer(camera=PerspectiveCamera(children=(DirectionalLight(color='white', intensity=0.6, position=(5.0, -23.…"
      ]
     },
     "metadata": {},
     "output_type": "display_data"
    },
    {
     "data": {
      "text/plain": [
       "<meshplot.Viewer.Viewer at 0x1124db920>"
      ]
     },
     "execution_count": 5,
     "metadata": {},
     "output_type": "execute_result"
    }
   ],
   "source": [
    "pi, v = igl.read_triangle_mesh(\"data/cat.off\")\n",
    "pi /= 10\n",
    "ni = igl.per_vertex_normals(pi, v)\n",
    "mp.plot(pi, shading={\"point_size\": 8})"
   ]
  },
  {
   "cell_type": "markdown",
   "metadata": {},
   "source": [
    "## Setting up Constraints\n",
    "Your first step is to build the set of constraint equations by choosing constraint locations and values. Naturally, each point `pi` in the input point cloud should contribute a constraint with target value `f(pi) = di = 0`. But these constraints alone provide no information to distinguish the object's inside (where we want `f < 0`) from its outside (where we want `f > 0`). Even worse, the minimization is likely to find the trivial solution `f = 0` (if it lies in the space of admissible functions). To address these problems, we introduce additional constraints incorporating information from the normals as follows:\n",
    "\n",
    "  * For each point `pi` in the point cloud, add a constraint of the form `f(pi) = di = 0`.\n",
    "  * Fix an `eps` value, for instance `eps = 0.01 bounding_box_diagonal`.\n",
    "  * For each point `pi` compute `pi+ = pi + eps ni`, where `ni` is the normalized normal of `pi`. Check that `pi` is the closest point to `pi+` if not, halve `esp` and recompute `pi+` until this is the case.\n",
    "    Then, add another constraint equation: `f(pi+) = eps`.\n",
    "  * Repeat the same process for `-eps`, i.e., add equations of the form `f(pi-) = -eps`. Do not forget to check each time that `pi` is the closest point to `pi-`.\n",
    "  * Append the tree vectors `pi`, `pi+`, and `pi-` and corresponding `f` to a unique vector `p` and `f`.\n",
    "\n",
    "After these steps, you should have `3n` equations for the implicit function `f(x)`.\n",
    "\n",
    "**Important**: explicitty write a function `find_closed_point(point, points)` that retreives the index of the colosest point to `point` in `points`.\n",
    "\n",
    "![](img/cat.png?raw=true)\n",
    "Input point cloud for the *cat* mesh and inward/outward value constraints. The green, red and blue labels correspond to inside, outside and on the surface respectively. The blue points in the left figure are the same as the black ones in right figure.\n",
    "\n",
    "*Relevant `numpy` functions:* `argmin`, `linalg.norm`.\n",
    "\n",
    "Required output of this section:\n",
    "\n",
    " * Plot of the provided point cloud shaded with green, blue, and red dots."
   ]
  },
  {
   "cell_type": "code",
   "execution_count": 33,
   "metadata": {},
   "outputs": [],
   "source": [
    "# for each pi in the cloud add constraint f(pi)=di=0\n",
    "# fix epsilon value (eps) \n",
    "# for each pi compute pi+=pi+eps ni, where ni is the normalized normal of pi \n",
    "# check that pi is closest point to pi+ and if not halve esp and recompute pi+ until this is true \n",
    "# when pi is closest point to pi+, set f(pi+)=eps \n",
    "# repeat that ^ for pi- (making sure to check that pi is the closest point to pi-\n",
    "# append pi, pi+, and pi- and corresponding f to a unique vectors p and f\n",
    "# SHOULD HAVE 3n equations for implicit function f(x) \n",
    "\n",
    "\"\"\"Questions: \n",
    "- what does F(x) look like? like is it one \n",
    "\"\"\"\n",
    "\"\"\"\n",
    "pp = p+ \n",
    "pn = p- \n",
    "\"\"\"\n",
    "def setupConstraints(pis, v, eps):\n",
    "    ni = igl.per_vertex_normals(pis, v)\n",
    "    di= 0\n",
    "    f=[]\n",
    "    pps = []\n",
    "    nps = []\n",
    "    for pi in pis:\n",
    "        f.append(di)\n",
    "    for idx,pi in enumerate(pis):\n",
    "        pp = pi+eps * ni[idx]\n",
    "        cp = find_closest_point(pp, pis)\n",
    "        # print(cp)\n",
    "        while cp!= idx:\n",
    "            esp=esp/2\n",
    "            pp=pi+eps * ni[idx]\n",
    "            print(\"not closest point!\")\n",
    "        pps.append(pp)\n",
    "    # print(pps)\n",
    "    for idx,pi in enumerate(pis):\n",
    "        np = pi-eps * ni[idx]\n",
    "        cp = find_closest_point(np, pis)\n",
    "        # print(cp)\n",
    "        while cp!= idx:\n",
    "            esp=esp/2\n",
    "            np=pi-eps * ni[idx]\n",
    "            print(\"not closest point!\")\n",
    "        nps.append(np)\n",
    "    # narr_pp = np.array(pps)\n",
    "    # narr_np = np.array(nps)\n",
    "    mp.plot(pps, shading={\"point_size\": 8})\n",
    "    # mp.plot(pi, shading={\"point_size\": 8}).add_points(pps, shading={\"point_color\": \"blue\", \"point_size\": 0.1}).add_points(nps, shading={\"point_color\": \"green\", \"point_size\": 0.1})\n",
    "    # print (len(f)==len(pis))\n",
    "    # return f\n",
    "    # for pi in pis:\n",
    "    # return p, pp, pn, f\n",
    "\"\"\"\n",
    "Returns the index of the closest point in a set of points \n",
    "\"\"\"\n",
    "def find_closest_point(point, points):\n",
    "    dist = np.linalg.norm(points-point, axis=1)\n",
    "    min_index = np.argmin(dist)\n",
    "    return min_index"
   ]
  },
  {
   "cell_type": "code",
   "execution_count": 34,
   "metadata": {},
   "outputs": [
    {
     "ename": "AttributeError",
     "evalue": "'list' object has no attribute 'shape'",
     "output_type": "error",
     "traceback": [
      "\u001b[0;31m---------------------------------------------------------------------------\u001b[0m",
      "\u001b[0;31mAttributeError\u001b[0m                            Traceback (most recent call last)",
      "Cell \u001b[0;32mIn[34], line 1\u001b[0m\n\u001b[0;32m----> 1\u001b[0m \u001b[43msetupConstraints\u001b[49m\u001b[43m(\u001b[49m\u001b[43mpi\u001b[49m\u001b[43m,\u001b[49m\u001b[43mv\u001b[49m\u001b[43m,\u001b[49m\u001b[38;5;241;43m1\u001b[39;49m\u001b[43m)\u001b[49m\n\u001b[1;32m      2\u001b[0m \u001b[38;5;66;03m# A = (1, 2), (2, 3), (1, 1), (0, 0)\u001b[39;00m\n\u001b[1;32m      3\u001b[0m \u001b[38;5;66;03m# a = (1,2)\u001b[39;00m\n\u001b[1;32m      4\u001b[0m \u001b[38;5;66;03m# points = np.array(A)\u001b[39;00m\n\u001b[1;32m      5\u001b[0m \u001b[38;5;66;03m# point = np.array(a)\u001b[39;00m\n\u001b[1;32m      6\u001b[0m \u001b[38;5;66;03m# find_closest_point(pi[0], pi)\u001b[39;00m\n",
      "Cell \u001b[0;32mIn[33], line 46\u001b[0m, in \u001b[0;36msetupConstraints\u001b[0;34m(pis, v, eps)\u001b[0m\n\u001b[1;32m     43\u001b[0m     nps\u001b[38;5;241m.\u001b[39mappend(np)\n\u001b[1;32m     44\u001b[0m \u001b[38;5;66;03m# narr_pp = np.array(pps)\u001b[39;00m\n\u001b[1;32m     45\u001b[0m \u001b[38;5;66;03m# narr_np = np.array(nps)\u001b[39;00m\n\u001b[0;32m---> 46\u001b[0m \u001b[43mmp\u001b[49m\u001b[38;5;241;43m.\u001b[39;49m\u001b[43mplot\u001b[49m\u001b[43m(\u001b[49m\u001b[43mpps\u001b[49m\u001b[43m,\u001b[49m\u001b[43m \u001b[49m\u001b[43mshading\u001b[49m\u001b[38;5;241;43m=\u001b[39;49m\u001b[43m{\u001b[49m\u001b[38;5;124;43m\"\u001b[39;49m\u001b[38;5;124;43mpoint_size\u001b[39;49m\u001b[38;5;124;43m\"\u001b[39;49m\u001b[43m:\u001b[49m\u001b[43m \u001b[49m\u001b[38;5;241;43m8\u001b[39;49m\u001b[43m}\u001b[49m\u001b[43m)\u001b[49m\n",
      "File \u001b[0;32m~/gp/lib/python3.12/site-packages/meshplot/plot.py:87\u001b[0m, in \u001b[0;36mplot\u001b[0;34m(v, f, c, uv, n, shading, plot, return_plot, filename, texture_data, **kwargs)\u001b[0m\n\u001b[1;32m     85\u001b[0m     view\u001b[38;5;241m.\u001b[39mreset()\n\u001b[1;32m     86\u001b[0m \u001b[38;5;28;01mif\u001b[39;00m \u001b[38;5;28mtype\u001b[39m(f) \u001b[38;5;241m==\u001b[39m \u001b[38;5;28mtype\u001b[39m(\u001b[38;5;28;01mNone\u001b[39;00m): \u001b[38;5;66;03m# Plot pointcloud\u001b[39;00m\n\u001b[0;32m---> 87\u001b[0m     obj_id \u001b[38;5;241m=\u001b[39m \u001b[43mview\u001b[49m\u001b[38;5;241;43m.\u001b[39;49m\u001b[43madd_points\u001b[49m\u001b[43m(\u001b[49m\u001b[43mv\u001b[49m\u001b[43m,\u001b[49m\u001b[43m \u001b[49m\u001b[43mc\u001b[49m\u001b[43m,\u001b[49m\u001b[43m \u001b[49m\u001b[43mshading\u001b[49m\u001b[38;5;241;43m=\u001b[39;49m\u001b[43mshading\u001b[49m\u001b[43m)\u001b[49m\n\u001b[1;32m     88\u001b[0m \u001b[38;5;28;01melif\u001b[39;00m \u001b[38;5;28mtype\u001b[39m(f) \u001b[38;5;241m==\u001b[39m np\u001b[38;5;241m.\u001b[39mndarray \u001b[38;5;129;01mand\u001b[39;00m \u001b[38;5;28mlen\u001b[39m(f\u001b[38;5;241m.\u001b[39mshape) \u001b[38;5;241m==\u001b[39m \u001b[38;5;241m2\u001b[39m \u001b[38;5;129;01mand\u001b[39;00m f\u001b[38;5;241m.\u001b[39mshape[\u001b[38;5;241m1\u001b[39m] \u001b[38;5;241m==\u001b[39m \u001b[38;5;241m2\u001b[39m: \u001b[38;5;66;03m# Plot edges\u001b[39;00m\n\u001b[1;32m     89\u001b[0m     obj_id \u001b[38;5;241m=\u001b[39m view\u001b[38;5;241m.\u001b[39madd_edges(v, f, shading\u001b[38;5;241m=\u001b[39mshading)\n",
      "File \u001b[0;32m~/gp/lib/python3.12/site-packages/meshplot/Viewer.py:321\u001b[0m, in \u001b[0;36mViewer.add_points\u001b[0;34m(self, points, c, shading, obj, **kwargs)\u001b[0m\n\u001b[1;32m    319\u001b[0m \u001b[38;5;28;01mdef\u001b[39;00m\u001b[38;5;250m \u001b[39m\u001b[38;5;21madd_points\u001b[39m(\u001b[38;5;28mself\u001b[39m, points, c\u001b[38;5;241m=\u001b[39m\u001b[38;5;28;01mNone\u001b[39;00m, shading\u001b[38;5;241m=\u001b[39m{}, obj\u001b[38;5;241m=\u001b[39m\u001b[38;5;28;01mNone\u001b[39;00m, \u001b[38;5;241m*\u001b[39m\u001b[38;5;241m*\u001b[39mkwargs):\n\u001b[1;32m    320\u001b[0m     shading\u001b[38;5;241m.\u001b[39mupdate(kwargs)\n\u001b[0;32m--> 321\u001b[0m     \u001b[38;5;28;01mif\u001b[39;00m \u001b[38;5;28mlen\u001b[39m(\u001b[43mpoints\u001b[49m\u001b[38;5;241;43m.\u001b[39;49m\u001b[43mshape\u001b[49m) \u001b[38;5;241m==\u001b[39m \u001b[38;5;241m1\u001b[39m:\n\u001b[1;32m    322\u001b[0m         \u001b[38;5;28;01mif\u001b[39;00m \u001b[38;5;28mlen\u001b[39m(points) \u001b[38;5;241m==\u001b[39m \u001b[38;5;241m2\u001b[39m:\n\u001b[1;32m    323\u001b[0m             points \u001b[38;5;241m=\u001b[39m np\u001b[38;5;241m.\u001b[39marray([[points[\u001b[38;5;241m0\u001b[39m], points[\u001b[38;5;241m1\u001b[39m], \u001b[38;5;241m0\u001b[39m]])\n",
      "\u001b[0;31mAttributeError\u001b[0m: 'list' object has no attribute 'shape'"
     ]
    }
   ],
   "source": [
    "setupConstraints(pi,v,1)\n",
    "# A = (1, 2), (2, 3), (1, 1), (0, 0)\n",
    "# a = (1,2)\n",
    "# points = np.array(A)\n",
    "# point = np.array(a)\n",
    "# find_closest_point(pi[0], pi)"
   ]
  },
  {
   "cell_type": "markdown",
   "metadata": {},
   "source": [
    "### Create a grid sampling the 3D space\n",
    "Create a regular volumetric grid around your point cloud: compute the axis-aligned bounding box of the point cloud, enlarge it slightly, and divide it into uniform cells (tets). The grid resolution is configured by\n",
    "the global variable `resolution`, which can be changed. *Note* the funciton to generate the grid is provided. We call the grid vertices `x` and the tets connecting them `T`."
   ]
  },
  {
   "cell_type": "markdown",
   "metadata": {},
   "source": [
    "### MLS Interpolation\n",
    "We now use MLS interpolation to construct an implicit function satisfying the constraints as nearly as possible.\n",
    "We won't define the function with an explicit formula; instead we characterize it as the linear combination of polynomial basis functions that best satisfies the constraints in some sense. At a given point `xi` in `x`, you evaluate this function by finding the \"optimal\" basis function coefficients (which will vary from point to point!) and using these to combine the basis function values at `xi`.\n",
    "\n",
    "Complete the appropriate source code sections to evaluate the MLS function at every node `xi` of a regular volumetric\n",
    "grid containing the input point cloud. As an example, the provided code computes the grid values for an implicit function representing a sphere (MLS wasn't used in\n",
    "this case since the formula is known analytically).\n",
    "\n",
    "\n",
    "More specifically, for each grid node `xi` of the grid, evaluate the implicit function `f(xi)`, whose zero level set approximates the point cloud.\n",
    "Use the moving least squares approximation presented in class and in the tutoring session. You should use the\n",
    "Wendland weight function with radius configured by `wendlandRadius` and degree `k = 0, 1, 2` polynomial basis functions configured by `polyDegree`. Only use the constraint points with nonzero weight (i.e., points `p` with `||xi - p|| < wendlandRadius`). *Note* if the number of constraint points within `wendlandRadius` is less than twice the number of polynomial coefficients (i.e., 1 for `k = 0`, 4 for `k = 1`, and 10 for `k = 2`), you can assign a large positive (outside) value to the grid point.\n",
    "\n",
    "Store the field value  `fx = f(xi)` in a  `numpy.array`, using the same ordering as in `x`. Render these values by coloring each grid point red/green depending if they are inside outside (i.e., `fx < 0` or `fx ≥ 0`). You can use the `meshplot.plot(..., c=color)` where `color` is a `n x 3` matrix containing rgb values.\n",
    "\n",
    "**Important**: explicitty write a function `closest_points(point, points, h)` that retreives the indices all points in `points` that are at distance less than `h` from `point`.\n",
    "\n",
    "*Relevant `numpy` functions:* `argwhere`, `linalg.solve`.\n",
    "\n",
    "Required output of this section:\n",
    "\n",
    " * Plot of the grid points `x` colored according of being inside or outside the input cloud.\n"
   ]
  },
  {
   "cell_type": "markdown",
   "metadata": {},
   "source": [
    "## Implementing a spatial index to accelerate neighbor calculations\n",
    "\n",
    "To construct the MLS equations, you will perform queries\n",
    "to find, for a query point `q`:\n",
    "\n",
    "    * the closest input point to `q` (needed while constructing inside/outside offset points); and\n",
    "    * all input points within distance `h` of `q` (needed to select constraints with nonzero weight).\n",
    "\n",
    "\n",
    "Although a simple loop over all points could answer these queries, it would be slow for large point clouds.\n",
    "Improve the efficiency by implementing a simple spatial index (a uniform grid at some resolution). By this, we mean binning vertices into their enclosing grid cells and restricting the neighbor queries to visit only the grid cells that could possibly satisfy the query. You can debug\n",
    "this data structure by ensuring that it agrees with the brute-force for loop implementation.\n",
    "\n",
    "This part requires changing the two fucntion `find_closed_point` and `closest_points`."
   ]
  },
  {
   "cell_type": "markdown",
   "metadata": {},
   "source": [
    "## Using a non-axis-aligned grid.\n",
    "The point cloud `luigi.off` is not aligned with the canonical axes.\n",
    "Running reconstruction on an axis-aligned grid is wasteful in this case: many of the grid points will lie far outside the object. Devise an automatic (and general) way to align the grid to the data and implement it.\n",
    "\n",
    "Required output of this section:\n",
    "\n",
    "* Plot of the grid with nodes colored according to their implicit function values"
   ]
  },
  {
   "cell_type": "markdown",
   "metadata": {},
   "source": [
    "## Extracting the surface\n",
    "You can now use marching tets to extract the zero isosurface from your grid.\n",
    "The extraction has already been implemented and the surface is displayed. The implicit function obtained from MLS might be noisy and the reconstructed mesh will contain several pieces. Filter out and keep the largest component.\n",
    "\n",
    "![](img/cat-recon.png?raw=true)\n",
    "\n",
    "*Relevant `igl` functions:* `marching_tets`, `face_components`.\n",
    "\n",
    "\n",
    "Required output of this section:\n",
    "\n",
    "* Plot of the reconstructed surfaces. Experiment with different parameter settings: grid resolution (also anisotropic in the 3 axes), Wendland function radius, and polynomial degree.\n"
   ]
  },
  {
   "cell_type": "markdown",
   "metadata": {},
   "source": [
    "## MLS function"
   ]
  },
  {
   "cell_type": "code",
   "execution_count": 4,
   "metadata": {
    "scrolled": true
   },
   "outputs": [],
   "source": [
    "# Parameters\n",
    "bbox_min = np.array([-1., -1., -1.])\n",
    "bbox_max = np.array([1., 1., 1.])\n",
    "bbox_diag = np.linalg.norm(bbox_max - bbox_min)\n",
    "\n",
    "n = 10"
   ]
  },
  {
   "cell_type": "code",
   "execution_count": 5,
   "metadata": {
    "scrolled": true
   },
   "outputs": [],
   "source": [
    "# Generate grid n x n x n\n",
    "\n",
    "x, T = tet_grid((n, n, n), bbox_min - 0.05 * bbox_diag, bbox_max + 0.05 * bbox_diag)\n",
    "\n",
    "#Compute implicit sphere function\n",
    "center = np.array([0., 0., 0.])\n",
    "radius = 1\n",
    "fx = np.linalg.norm(x-center, axis=1) - radius ## THIS IS WHERE WE WILL PUT IN THE MLS "
   ]
  },
  {
   "cell_type": "code",
   "execution_count": 6,
   "metadata": {},
   "outputs": [
    {
     "data": {
      "application/vnd.jupyter.widget-view+json": {
       "model_id": "08c83d0b0e754c55a20444bba60374e0",
       "version_major": 2,
       "version_minor": 0
      },
      "text/plain": [
       "Renderer(camera=PerspectiveCamera(children=(DirectionalLight(color='white', intensity=0.6, position=(0.0, 0.0,…"
      ]
     },
     "metadata": {},
     "output_type": "display_data"
    },
    {
     "data": {
      "text/plain": [
       "<meshplot.Viewer.Viewer at 0x1155cfb30>"
      ]
     },
     "execution_count": 6,
     "metadata": {},
     "output_type": "execute_result"
    }
   ],
   "source": [
    "# Threshold fx to visualize inside outside\n",
    "\n",
    "ind = np.zeros_like(fx)\n",
    "ind[fx >= 0] = 1\n",
    "ind[fx < 0] = -1\n",
    "mp.plot(x, c=ind, shading={\"point_size\": 0.1,\"width\": 800, \"height\": 800})"
   ]
  },
  {
   "cell_type": "markdown",
   "metadata": {},
   "source": [
    "## Marching tets to extract surface"
   ]
  },
  {
   "cell_type": "code",
   "execution_count": null,
   "metadata": {},
   "outputs": [],
   "source": [
    "# Marcing tet to extract surface\n",
    "\n",
    "sv, sf, _, _ = igl.marching_tets(x, T, fx, 0) ## SV AND SF ARE THE VERTICES\n",
    "mp.plot(sv, sf, shading={\"wireframe\": True})"
   ]
  },
  {
   "cell_type": "markdown",
   "metadata": {
    "scrolled": true
   },
   "source": [
    "## Optional tasks\n",
    "\n",
    "<!-- * *(2 points)* Compute the closed-form gradient of the MLS approximation. Suggestion: A good strategy to solve this exercise is to write MLS explicitly in matrix form and then compute its gradient (a good reference for differentiating expressions with matrices can be found in [The Matrix Cookbook](http://orion.uwaterloo.ca/~hwolkowi/matrixcookbook.pdf).\n",
    " -->\n",
    "* *(2 points)* In [Interpolating and Approximating Implicit Surfaces from Polygon Soup](http://graphics.berkeley.edu/papers/Shen-IAI-2004-08/index.html) normals are used differently to define the implicit surface. Instead of generating new sample points offset in the positive and negative normal directions, the paper uses the normal to define a linear function for each point cloud point: the signed distance to the tangent plane at the point.\n",
    "Then the values of these linear functions are interpolated by MLS. Implement Section 3.3 of the paper and append to your report a description of the method and how it compares to the original point-value-based approach.\n",
    "Estimate a normal for results obtained with single dataset.\n",
    "\n",
    "* *(1 points)* [Screened Poisson Surface Reconstruction](http://www.cs.jhu.edu/~misha/MyPapers/ToG13.pdf) is a more modern technique that avoids some of the pitfalls of local reconstruction methods. An implementation is provided in [MeshLab](http://www.meshlab.net). A standalone implementation of this method is also provided by the authors [here](http://www.cs.jhu.edu/~misha/Code/PoissonRecon/Version9.01/) with accompanying usage instructions and datasets. Compare your MLS        reconstruction results to the surfaces obtained with this method, and try to understand the differences. Report your findings."
   ]
  },
  {
   "cell_type": "code",
   "execution_count": null,
   "metadata": {},
   "outputs": [],
   "source": []
  }
 ],
 "metadata": {
  "kernelspec": {
   "display_name": "Python 3 (ipykernel)",
   "language": "python",
   "name": "python3"
  },
  "language_info": {
   "codemirror_mode": {
    "name": "ipython",
    "version": 3
   },
   "file_extension": ".py",
   "mimetype": "text/x-python",
   "name": "python",
   "nbconvert_exporter": "python",
   "pygments_lexer": "ipython3",
   "version": "3.12.8"
  }
 },
 "nbformat": 4,
 "nbformat_minor": 4
}
