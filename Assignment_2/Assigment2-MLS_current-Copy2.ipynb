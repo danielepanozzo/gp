{
 "cells": [
  {
   "cell_type": "markdown",
   "metadata": {},
   "source": [
    "## Assignment 2\n",
    "In this exercise you will:\n",
    " * Compute an implicit MLS function approximating a 3D point cloud with given (but possibly unnormalized) normals.\n",
    " * Sample the implicit function on a 3D volumetric grid.\n",
    " * Apply the marching tets algorithm to extract a triangle mesh of this zero level set.\n",
    " * Experiment with various MLS reconstruction parameters.\n",
    "\n",
    "Your main task is to construct an implicit function `f(x)` defined on all `x`  R<sup>3</sup> whose zero level set contains (or at least passes near) each input point. That is, for every point `pi` in the point cloud, we want `f(pi) = 0`. Furthermore, `∂f` (the isosurface normal) evaluated at each point cloud location should approximate the point's normal provided as input."
   ]
  },
  {
   "cell_type": "code",
   "execution_count": 4,
   "metadata": {
    "scrolled": true
   },
   "outputs": [],
   "source": [
    "import numpy as np\n",
    "import igl\n",
    "import meshplot as mp\n",
    "import math\n",
    "import matplotlib.pyplot as plt"
   ]
  },
  {
   "cell_type": "code",
   "execution_count": 5,
   "metadata": {
    "scrolled": true
   },
   "outputs": [],
   "source": [
    "# Utility function to generate a tet grid\n",
    "# n is a 3-tuple with the number of cell in every direction\n",
    "# mmin/mmax are the grid bounding box corners\n",
    "# returns V - vertices of the grid\n",
    "\n",
    "def tet_grid(n, mmin, mmax):\n",
    "    nx = n[0]\n",
    "    ny = n[1]\n",
    "    nz = n[2]\n",
    "    \n",
    "    delta = mmax-mmin\n",
    "    \n",
    "    deltax = delta[0]/(nx-1)\n",
    "    deltay = delta[1]/(ny-1)\n",
    "    deltaz = delta[2]/(nz-1)\n",
    "    \n",
    "    T = np.zeros(((nx-1)*(ny-1)*(nz-1)*6, 4), dtype=np.int64)\n",
    "    V = np.zeros((nx*ny*nz, 3))\n",
    "\n",
    "    mapping = -np.ones((nx, ny, nz), dtype=np.int64)\n",
    "\n",
    "\n",
    "    index = 0\n",
    "    for i in range(nx):\n",
    "        for j in range(ny):\n",
    "            for k in range(nz):\n",
    "                mapping[i, j, k] = index\n",
    "                V[index, :] = [i*deltax, j*deltay, k*deltaz]\n",
    "                index += 1\n",
    "    assert(index == V.shape[0])\n",
    "    \n",
    "    tets = np.array([\n",
    "        [0,1,3,4],\n",
    "        [5,2,6,7],\n",
    "        [4,1,5,3],\n",
    "        [4,3,7,5],\n",
    "        [3,1,5,2],\n",
    "        [2,3,7,5]\n",
    "    ])\n",
    "    \n",
    "    index = 0\n",
    "    for i in range(nx-1):\n",
    "        for j in range(ny-1):\n",
    "            for k in range(nz-1):\n",
    "                indices = [\n",
    "                    (i,   j,   k),\n",
    "                    (i+1, j,   k),\n",
    "                    (i+1, j+1, k),\n",
    "                    (i,   j+1, k),\n",
    "\n",
    "                    (i,   j,   k+1),\n",
    "                    (i+1, j,   k+1),\n",
    "                    (i+1, j+1, k+1),\n",
    "                    (i,   j+1, k+1),\n",
    "                ]\n",
    "                \n",
    "                for t in range(tets.shape[0]):\n",
    "                    tmp = [mapping[indices[ii]] for ii in tets[t, :]]\n",
    "                    T[index, :]=tmp\n",
    "                    index += 1\n",
    "                    \n",
    "    assert(index == T.shape[0])\n",
    "    \n",
    "    V += mmin\n",
    "    return V, T"
   ]
  },
  {
   "cell_type": "markdown",
   "metadata": {},
   "source": [
    "# Reading point cloud"
   ]
  },
  {
   "cell_type": "code",
   "execution_count": 6,
   "metadata": {},
   "outputs": [],
   "source": [
    "def find_closest_point(query_point, point_set):\n",
    "    dist = np.linalg.norm(point_set - query_point, axis=1)\n",
    "    return np.argmin(dist)"
   ]
  },
  {
   "cell_type": "code",
   "execution_count": 7,
   "metadata": {
    "scrolled": true
   },
   "outputs": [],
   "source": [
    "\"\"\"\n",
    "pp = p+ \n",
    "npp = p- \n",
    "\"\"\"\n",
    "def setupConstraints(pis, v, eps, ps):\n",
    "    ni = igl.per_vertex_normals(pis, v)  \n",
    "    f = np.zeros(len(pis) * 3)\n",
    "    pps = np.zeros_like(pis)  # positive points\n",
    "    nps = np.zeros_like(pis)  # negative points\n",
    "    # compute p+\n",
    "    for idx, pi in enumerate(pis):\n",
    "        pp = pi + eps * ni[idx]\n",
    "        cp = find_closest_point(pp, pis)\n",
    "        new_eps = eps\n",
    "        while cp != idx:\n",
    "            new_eps /= 2  # Reduce step size\n",
    "            pp = pi + new_eps * ni[idx]\n",
    "            print(\"not closest point!\")\n",
    "            cp = find_closest_point(pp, pis)\n",
    "        pps[idx]=pp\n",
    "        f[len(pis) + idx] = new_eps\n",
    "    # compute p-\n",
    "    for idx, pi in enumerate(pis):\n",
    "        npp = pi - eps * ni[idx]  # Negative offset\n",
    "        cp = find_closest_point(npp, pis)\n",
    "        new_eps = eps\n",
    "        while cp != idx:\n",
    "            new_eps /= 2\n",
    "            npp = pi - new_eps * ni[idx]\n",
    "            print(\"not closest point!\")\n",
    "            cp = find_closest_point(npp, pis)\n",
    "        nps[idx]=npp\n",
    "        f[2*len(pis) + idx] = -new_eps\n",
    "    p=np.concatenate((pis, pps, nps), axis=0)\n",
    "    print(\"length of p = 3n: \", len(p) == (len(pis)+len(pps)+len(nps))) #check to make sure p is correct\n",
    "    print(\"length of f = 3n: \", len(f) == (len(pis)*3)) #check to make sure f is correct\n",
    "    # plot 3 set of points\n",
    "    plot = mp.plot(pis, shading={\"point_color\": \"blue\", \"point_size\": ps}) # blue = on surface\n",
    "    plot.add_points(pps, shading={\"point_color\": \"red\", \"point_size\": ps}) # red = outside \n",
    "    plot.add_points(nps, shading={\"point_color\": \"green\", \"point_size\": ps}) # green = inside \n",
    "    return p,f"
   ]
  },
  {
   "cell_type": "markdown",
   "metadata": {},
   "source": [
    "### Create a grid sampling the 3D space\n",
    "Create a regular volumetric grid around your point cloud: compute the axis-aligned bounding box of the point cloud, enlarge it slightly, and divide it into uniform cells (tets). The grid resolution is configured by\n",
    "the global variable `resolution`, which can be changed. *Note* the funciton to generate the grid is provided. We call the grid vertices `x` and the tets connecting them `T`."
   ]
  },
  {
   "cell_type": "code",
   "execution_count": 8,
   "metadata": {},
   "outputs": [],
   "source": [
    "minimum = -float('inf') # temporary value to help us compute the bounding box \n",
    "maximum = float('inf')\n",
    "resolution = 0.05 # we multiply the box diagonal by this when making the tetrahedral gird\n",
    "\n",
    "#function to get margins for bounding box\n",
    "def boundingBox(pis):\n",
    "    min_values = np.min(pis, axis=0)\n",
    "    max_values = np.max(pis, axis=0)\n",
    "    return min_values, max_values\n",
    "\n",
    "def create3dGrid(pis, n, ps_grid, ps_mesh,showCheck=False, resolution=0.05):\n",
    "    bbox_min, bbox_max = boundingBox(pis) # compute axis-aligned bounding box of the point cloud \n",
    "    print(bbox_min, bbox_max)\n",
    "    print(\"length of cube: \", (bbox_max[0]-bbox_min[0])/n)\n",
    "    box_diag = np.linalg.norm(bbox_max - bbox_min)\n",
    "    x,T = tet_grid((n,n,n), bbox_min-resolution*box_diag, bbox_max + resolution * box_diag)\n",
    "    if(showCheck):# show if object fits inside grid\n",
    "        plot = mp.plot(x, shading={\"point_color\": \"black\",  \"point_size\": ps_grid})\n",
    "        plot.add_points(pis, shading={\"point_color\": \"blue\", \"point_size\": ps_mesh})\n",
    "    return x,T"
   ]
  },
  {
   "cell_type": "markdown",
   "metadata": {},
   "source": [
    "### MLS Interpolation\n",
    "We now use MLS interpolation to construct an implicit function satisfying the constraints as nearly as possible.\n",
    "We won't define the function with an explicit formula; instead we characterize it as the linear combination of polynomial basis functions that best satisfies the constraints in some sense. At a given point `xi` in `x`, you evaluate this function by finding the \"optimal\" basis function coefficients (which will vary from point to point!) and using these to combine the basis function values at `xi`.\n",
    "\n",
    "Complete the appropriate source code sections to evaluate the MLS function at every node `xi` of a regular volumetric\n",
    "grid containing the input point cloud. As an example, the provided code computes the grid values for an implicit function representing a sphere (MLS wasn't used in\n",
    "this case since the formula is known analytically).\n",
    "\n",
    "\n",
    "More specifically, for each grid node `xi` of the grid, evaluate the implicit function `f(xi)`, whose zero level set approximates the point cloud.\n",
    "Use the moving least squares approximation presented in class and in the tutoring session. You should use the\n",
    "Wendland weight function with radius configured by `wendlandRadius` and degree `k = 0, 1, 2` polynomial basis functions configured by `polyDegree`. Only use the constraint points with nonzero weight (i.e., points `p` with `||xi - p|| < wendlandRadius`). *Note* if the number of constraint points within `wendlandRadius` is less than twice the number of polynomial coefficients (i.e., 1 for `k = 0`, 4 for `k = 1`, and 10 for `k = 2`), you can assign a large positive (outside) value to the grid point.\n",
    "\n",
    "Store the field value  `fx = f(xi)` in a  `numpy.array`, using the same ordering as in `x`. Render these values by coloring each grid point red/green depending if they are inside outside (i.e., `fx < 0` or `fx ≥ 0`). You can use the `meshplot.plot(..., c=color)` where `color` is a `n x 3` matrix containing rgb values.\n",
    "\n",
    "**Important**: explicitty write a function `closest_points(point, points, h)` that retreives the indices all points in `points` that are at distance less than `h` from `point`.\n",
    "\n",
    "*Relevant `numpy` functions:* `argwhere`, `linalg.solve`.\n",
    "\n",
    "Required output of this section:\n",
    "\n",
    " * Plot of the grid points `x` colored according of being inside or outside the input cloud.\n"
   ]
  },
  {
   "cell_type": "code",
   "execution_count": 33,
   "metadata": {},
   "outputs": [],
   "source": [
    "\"\"\"\n",
    "Goal: find the best f in the span of chosen basis functions \n",
    "    f(x) = sum_j b_j(x)a_j, where the basis is a polynomial function \n",
    "\"\"\"\n",
    "\n",
    "def check_rank(matrix):\n",
    "    rank = np.linalg.matrix_rank(matrix)\n",
    "    print(\"Rank:\", rank, \"Size:\", matrix.shape[0])\n",
    "    return rank < matrix.shape[0]\n",
    "\"\"\" \n",
    "Compute polynomial basis (at a point) in 2nd degree\n",
    "\n",
    "1,x,y,z,x^2,y^2,z^2,xy,xz,yz\n",
    "\"\"\" \n",
    "def polynomialBasis(point):\n",
    "    x,y,z = point;\n",
    "    return np.array([1,x,y,z,x**2,y**2,z**2,x*y,x*z,y*z]) #return np.array([1,x,y,z])\n",
    "\n",
    "def polynomialBasisMat(x):\n",
    "    B = np.apply_along_axis(polynomialBasis, axis=1, arr=x)\n",
    "    return B\n",
    "def mls_interpolate(p,f, x,T, wendlandRadius):\n",
    "    # We want to solve (B^TW(x)B)a(x)=B^TW(x)d, where W = wendland weight matrix \n",
    "    # check to make sure p and x have same dimensionality \n",
    "    assert p.shape[1] == x.shape[1]\n",
    "    # 1. Compute B (the polynomial basis of p) -- polynomial 3d basis = 1,x,y,z,x^2,y^2,z^2,xy,xz,yz\n",
    "    B = polynomialBasisMat(p)\n",
    "    print(\"Shape of B: \", B.shape)\n",
    "\n",
    "    # 2. Compute W  -- for each evaluation point, evaluate pi, in p, W_ii = w||x-p_i||\n",
    "    ##  x[:, None, :] has shape (k, 1, d)\n",
    "    ##  p[None, :, :] has shape (1, 3n, d)\n",
    "    ##  resulting distances have shape (k, 3n)\n",
    "    distances = np.linalg.norm(x[:, None, :] - p[None, :, :], axis=2) # using numpy broadcasting\n",
    "    # print(\"Distances shape:\", distances.shape)\n",
    "    weights = wendland(distances, wendlandRadius) # getting the wendland weights for all distances at once\n",
    "    print(weights)\n",
    "    # For each point x compute a, and then fx\n",
    "    fx = np.zeros(len(x))\n",
    "    for i in range(len(x)):\n",
    "        W_i = np.diag(weights[i]) # computing wendland matrix \n",
    "        # print(\"Wi shape:\", W_i.shape)\n",
    "        BTW = B.T @ W_i\n",
    "        lhs = BTW @ f\n",
    "        if check_rank(lhs):\n",
    "            print(\"lhs is singular or rank-deficient! in round \", i, \" of \", len(x))\n",
    "            print(lhs)\n",
    "        rhs = BTW @ B\n",
    "        if check_rank(rhs):\n",
    "            print(\"rhs is singular or rank-deficient! in round \", i, \" of \", len(x))\n",
    "            print(rhs)\n",
    "        coeff = np.linalg.solve(rhs, lhs)\n",
    "        # now we have to compute f(x) at every point for every a \n",
    "        basis_at_x_i = polynomialBasis(x[i])\n",
    "        fx[i] = np.dot(basis_at_x_i, coeff)\n",
    "    return fx    \n",
    "\n",
    "def mls_interpolate_with_close_points(p,f, x,T, closestPointDist, wendlandRadius):\n",
    "    # We want to solve (B^TW(x)B)a(x)=B^TW(x)d, where W = wendland weight matrix \n",
    "    # check to make sure p and x have same dimensionality \n",
    "    assert p.shape[1] == x.shape[1]\n",
    "    fx = np.zeros(len(x))\n",
    "    for i in range(len(x)):\n",
    "        # get the indices closest points to x\n",
    "        indices = closest_points(x[i], p, closestPointDist)\n",
    "        if len(indices) <= 0:\n",
    "            continue  # if no close points are found # print(\"num closest points: \", len(indices))\n",
    "        # get the actual closest points to x\n",
    "        p_closest = p[indices]  \n",
    "        f_closest = f[indices]\n",
    "        # compute B\n",
    "        B = polynomialBasisMat(p_closest)\n",
    "        # get the weights and wendland matrix \n",
    "        distances = np.linalg.norm(x[i] - p_closest, axis=1)  \n",
    "        weights = wendland(distances, wendlandRadius)\n",
    "        W_i = np.diag(weights) # computing wendland matrix \n",
    "        # solve for coefficients (a) \n",
    "        BTW = B.T @ W_i\n",
    "        lhs = BTW @ f_closest\n",
    "        rhs = BTW @ B\n",
    "        coeff = np.linalg.solve(rhs, lhs)\n",
    "        # compute f(x) = b(x)a(x)\n",
    "        basis_at_x_i = polynomialBasis(x[i])\n",
    "        fx[i] = np.dot(basis_at_x_i, coeff)\n",
    "    return fx\n",
    "\"\"\"\n",
    "returns the indices of the points within distance h of point, point\n",
    "\"\"\"\n",
    "def closest_points(point, points, h):\n",
    "    dist = np.linalg.norm(points - point, axis=1)\n",
    "    return np.where(dist < h)[0]\n",
    "\n",
    "\"\"\"\n",
    "Computes wendland weight \n",
    "r is the Euclidean distance from the evaluation point.\n",
    "h (the Wendland radius) defines the range of influence.\n",
    "\"\"\"\n",
    "def wendland(r, h):\n",
    "    return np.maximum(0,(1-r/h)**4*(4*r/h+1)) "
   ]
  },
  {
   "cell_type": "code",
   "execution_count": 24,
   "metadata": {},
   "outputs": [],
   "source": [
    "def calculate_wendland_radius(p, num_neighbors=10):\n",
    "    # p is the point cloud of shape (n_points, 3)\n",
    "    n_points = p.shape[0]\n",
    "    # Step 1: Calculate pairwise distances between all points\n",
    "    dist_matrix = np.linalg.norm(p[:, np.newaxis] - p, axis=2)  # Shape (n_points, n_points)\n",
    "    # Step 2: For each point, sort the distances to other points\n",
    "    # We don't need the distance to itself, so we ignore the diagonal (i.e., i==j)\n",
    "    sorted_distances = np.sort(dist_matrix, axis=1)[:, 1:]  # Ignore self distance (diagonal)\n",
    "    # Step 3: For each point, take the distance to the 10th nearest neighbor\n",
    "    distances_to_10th = sorted_distances[:, num_neighbors-1]\n",
    "    # Step 4: Choose the Wendland radius (take average of the 10th nearest distances)\n",
    "    wendland_radius = np.mean(distances_to_10th)\n",
    "    return wendland_radius"
   ]
  },
  {
   "cell_type": "code",
   "execution_count": 25,
   "metadata": {},
   "outputs": [
    {
     "name": "stdout",
     "output_type": "stream",
     "text": [
      "Calculated Wendland radius: 11.798686063738305\n"
     ]
    }
   ],
   "source": [
    "pi, v = igl.read_triangle_mesh(\"data/cat.off\")\n",
    "pi /= 10\n",
    "ni = igl.per_vertex_normals(pi, v)\n",
    "wendland_radius = calculate_wendland_radius(pi)\n",
    "print(f\"Calculated Wendland radius: {wendland_radius}\")"
   ]
  },
  {
   "cell_type": "code",
   "execution_count": 31,
   "metadata": {},
   "outputs": [
    {
     "name": "stdout",
     "output_type": "stream",
     "text": [
      "length of p = 3n:  True\n",
      "length of f = 3n:  True\n"
     ]
    },
    {
     "data": {
      "application/vnd.jupyter.widget-view+json": {
       "model_id": "b21a8539892544bfbf4d09d5ab62e080",
       "version_major": 2,
       "version_minor": 0
      },
      "text/plain": [
       "Renderer(camera=PerspectiveCamera(children=(DirectionalLight(color='white', intensity=0.6, position=(5.0, -23.…"
      ]
     },
     "metadata": {},
     "output_type": "display_data"
    },
    {
     "name": "stdout",
     "output_type": "stream",
     "text": [
      "[-23.68137397 -64.69682439 -99.63522961] [33.69826224 17.66157433  6.79268375]\n",
      "length of cube:  2.86898181084974\n"
     ]
    },
    {
     "data": {
      "application/vnd.jupyter.widget-view+json": {
       "model_id": "6e3ce1ffcc1f41f39e6f0b8447e46a6d",
       "version_major": 2,
       "version_minor": 0
      },
      "text/plain": [
       "Renderer(camera=PerspectiveCamera(children=(DirectionalLight(color='white', intensity=0.6, position=(5.0084438…"
      ]
     },
     "metadata": {},
     "output_type": "display_data"
    },
    {
     "data": {
      "application/vnd.jupyter.widget-view+json": {
       "model_id": "a912707ab21c4581aeeb40038006afe1",
       "version_major": 2,
       "version_minor": 0
      },
      "text/plain": [
       "Renderer(camera=PerspectiveCamera(children=(DirectionalLight(color='white', intensity=0.6, position=(5.0084438…"
      ]
     },
     "metadata": {},
     "output_type": "display_data"
    },
    {
     "data": {
      "text/plain": [
       "<meshplot.Viewer.Viewer at 0x1122dadb0>"
      ]
     },
     "execution_count": 31,
     "metadata": {},
     "output_type": "execute_result"
    }
   ],
   "source": [
    "## Reading in the mesh\n",
    "pi, v = igl.read_triangle_mesh(\"data/cat.off\")\n",
    "pi /= 10\n",
    "ni = igl.per_vertex_normals(pi, v)\n",
    "# mp.plot(pi, shading={\"point_size\": 8})\n",
    "## Setting constraints\n",
    "eps = 1\n",
    "ps = 5\n",
    "p,f=setupConstraints(pi, v, eps, ps)\n",
    "## Adding the Grid def create3dGrid(pis, n, ps_grid, ps_mesh,showCheck=False, resolution=0.05):\n",
    "x, T = create3dGrid(p, 20, 2,8,True) # was 80 | 1 |  5\n",
    "# print(x.shape)\n",
    "## Running the interpolation \n",
    "fx = mls_interpolate(p,f, x,T, 100, 11)\n",
    "## Running marching tets\n",
    "sv, sf, _, _ = igl.marching_tets(x, T, fx, 0) ## SV AND SF ARE THE VERTICES\n",
    "mp.plot(sv, sf, shading={\"wireframe\": True})"
   ]
  },
  {
   "cell_type": "code",
   "execution_count": 136,
   "metadata": {},
   "outputs": [],
   "source": [
    "# ## Reading in the mesh\n",
    "# pi, v = igl.read_triangle_mesh(\"data/cube.obj\")\n",
    "# pi /= 10\n",
    "# ni = igl.per_vertex_normals(pi, v)\n",
    "# mp.plot(pi, shading={\"point_size\": .05})\n",
    "# ## Setting constraints\n",
    "# eps = .01\n",
    "# ps = .05\n",
    "# p,f=setupConstraints(pi, v, eps, ps)\n",
    "# ## Adding the Grid def create3dGrid(pis, n, ps_grid, ps_mesh,showCheck=False, resolution=0.05):\n",
    "# x, T = create3dGrid(p, 10, .025,.05,True) # was 80 | 1 |  5\n",
    "# # print(x.shape)\n",
    "# ## Running the interpolation \n",
    "# fx = mls_interpolate(p,f, x,T, 5, .2)\n",
    "# ## Running marching tets\n",
    "# sv, sf, _, _ = igl.marching_tets(x, T, fx, 0) ## SV AND SF ARE THE VERTICES\n",
    "# mp.plot(sv, sf, shading={\"wireframe\": True})"
   ]
  },
  {
   "cell_type": "markdown",
   "metadata": {},
   "source": [
    "## Implementing a spatial index to accelerate neighbor calculations\n",
    "\n",
    "To construct the MLS equations, you will perform queries\n",
    "to find, for a query point `q`:\n",
    "\n",
    "    * the closest input point to `q` (needed while constructing inside/outside offset points); and\n",
    "    * all input points within distance `h` of `q` (needed to select constraints with nonzero weight).\n",
    "\n",
    "\n",
    "Although a simple loop over all points could answer these queries, it would be slow for large point clouds.\n",
    "Improve the efficiency by implementing a simple spatial index (a uniform grid at some resolution). By this, we mean binning vertices into their enclosing grid cells and restricting the neighbor queries to visit only the grid cells that could possibly satisfy the query. You can debug\n",
    "this data structure by ensuring that it agrees with the brute-force for loop implementation.\n",
    "\n",
    "This part requires changing the two fucntion `find_closed_point` and `closest_points`."
   ]
  },
  {
   "cell_type": "markdown",
   "metadata": {},
   "source": [
    "## Using a non-axis-aligned grid.\n",
    "The point cloud `luigi.off` is not aligned with the canonical axes.\n",
    "Running reconstruction on an axis-aligned grid is wasteful in this case: many of the grid points will lie far outside the object. Devise an automatic (and general) way to align the grid to the data and implement it.\n",
    "\n",
    "Required output of this section:\n",
    "\n",
    "* Plot of the grid with nodes colored according to their implicit function values"
   ]
  },
  {
   "cell_type": "markdown",
   "metadata": {},
   "source": [
    "## Extracting the surface\n",
    "You can now use marching tets to extract the zero isosurface from your grid.\n",
    "The extraction has already been implemented and the surface is displayed. The implicit function obtained from MLS might be noisy and the reconstructed mesh will contain several pieces. Filter out and keep the largest component.\n",
    "\n",
    "![](img/cat-recon.png?raw=true)\n",
    "\n",
    "*Relevant `igl` functions:* `marching_tets`, `face_components`.\n",
    "\n",
    "\n",
    "Required output of this section:\n",
    "\n",
    "* Plot of the reconstructed surfaces. Experiment with different parameter settings: grid resolution (also anisotropic in the 3 axes), Wendland function radius, and polynomial degree.\n"
   ]
  },
  {
   "cell_type": "markdown",
   "metadata": {},
   "source": [
    "## MLS function"
   ]
  },
  {
   "cell_type": "code",
   "execution_count": 48,
   "metadata": {
    "scrolled": true
   },
   "outputs": [],
   "source": [
    "# Parameters\n",
    "bbox_min = np.array([-1., -1., -1.])\n",
    "bbox_max = np.array([1., 1., 1.])\n",
    "bbox_diag = np.linalg.norm(bbox_max - bbox_min)\n",
    "\n",
    "n = 10"
   ]
  },
  {
   "cell_type": "code",
   "execution_count": 51,
   "metadata": {
    "scrolled": true
   },
   "outputs": [
    {
     "name": "stdout",
     "output_type": "stream",
     "text": [
      "(1000, 3)\n",
      "(1000,)\n"
     ]
    }
   ],
   "source": [
    "# Generate grid n x n x n\n",
    "\n",
    "x, T = tet_grid((n, n, n), bbox_min - 0.05 * bbox_diag, bbox_max + 0.05 * bbox_diag)\n",
    "\n",
    "#Compute implicit sphere function\n",
    "\n",
    "center = np.array([0., 0., 0.])\n",
    "radius = 1\n",
    "fx = np.linalg.norm(x-center, axis=1) - radius ## THIS IS WHERE WE WILL PUT IN THE MLS \n",
    "print(x.shape)\n",
    "# print(x-center)\n",
    "print(fx.shape)"
   ]
  },
  {
   "cell_type": "code",
   "execution_count": 81,
   "metadata": {},
   "outputs": [
    {
     "data": {
      "application/vnd.jupyter.widget-view+json": {
       "model_id": "435f33c5d62c434890cc1505930a2466",
       "version_major": 2,
       "version_minor": 0
      },
      "text/plain": [
       "Renderer(camera=PerspectiveCamera(children=(DirectionalLight(color='white', intensity=0.6, position=(0.0, 0.0,…"
      ]
     },
     "metadata": {},
     "output_type": "display_data"
    },
    {
     "data": {
      "text/plain": [
       "<meshplot.Viewer.Viewer at 0x10bfbc260>"
      ]
     },
     "execution_count": 81,
     "metadata": {},
     "output_type": "execute_result"
    }
   ],
   "source": [
    "# Threshold fx to visualize inside outside\n",
    "\n",
    "ind = np.zeros_like(fx)\n",
    "ind[fx >= 0] = 1\n",
    "ind[fx < 0] = -1\n",
    "mp.plot(x, c=ind, shading={\"point_size\": 0.1,\"width\": 800, \"height\": 800})"
   ]
  },
  {
   "cell_type": "markdown",
   "metadata": {},
   "source": [
    "## Marching tets to extract surface"
   ]
  },
  {
   "cell_type": "code",
   "execution_count": 90,
   "metadata": {},
   "outputs": [
    {
     "data": {
      "application/vnd.jupyter.widget-view+json": {
       "model_id": "9a8a2ac1d3a14ca7a0076e7ee2e574cf",
       "version_major": 2,
       "version_minor": 0
      },
      "text/plain": [
       "Renderer(camera=PerspectiveCamera(children=(DirectionalLight(color='white', intensity=0.6, position=(0.0, 0.0,…"
      ]
     },
     "metadata": {},
     "output_type": "display_data"
    },
    {
     "data": {
      "text/plain": [
       "<meshplot.Viewer.Viewer at 0x12777abd0>"
      ]
     },
     "execution_count": 90,
     "metadata": {},
     "output_type": "execute_result"
    }
   ],
   "source": [
    "# Marcing tet to extract surface\n",
    "\n",
    "sv, sf, _, _ = igl.marching_tets(x, T, fx, 0) ## SV AND SF ARE THE VERTICES\n",
    "mp.plot(sv, sf, shading={\"wireframe\": True})"
   ]
  },
  {
   "cell_type": "markdown",
   "metadata": {
    "jp-MarkdownHeadingCollapsed": true,
    "scrolled": true
   },
   "source": [
    "## Optional tasks\n",
    "\n",
    "<!-- * *(2 points)* Compute the closed-form gradient of the MLS approximation. Suggestion: A good strategy to solve this exercise is to write MLS explicitly in matrix form and then compute its gradient (a good reference for differentiating expressions with matrices can be found in [The Matrix Cookbook](http://orion.uwaterloo.ca/~hwolkowi/matrixcookbook.pdf).\n",
    " -->\n",
    "* *(2 points)* In [Interpolating and Approximating Implicit Surfaces from Polygon Soup](http://graphics.berkeley.edu/papers/Shen-IAI-2004-08/index.html) normals are used differently to define the implicit surface. Instead of generating new sample points offset in the positive and negative normal directions, the paper uses the normal to define a linear function for each point cloud point: the signed distance to the tangent plane at the point.\n",
    "Then the values of these linear functions are interpolated by MLS. Implement Section 3.3 of the paper and append to your report a description of the method and how it compares to the original point-value-based approach.\n",
    "Estimate a normal for results obtained with single dataset.\n",
    "\n",
    "* *(1 points)* [Screened Poisson Surface Reconstruction](http://www.cs.jhu.edu/~misha/MyPapers/ToG13.pdf) is a more modern technique that avoids some of the pitfalls of local reconstruction methods. An implementation is provided in [MeshLab](http://www.meshlab.net). A standalone implementation of this method is also provided by the authors [here](http://www.cs.jhu.edu/~misha/Code/PoissonRecon/Version9.01/) with accompanying usage instructions and datasets. Compare your MLS        reconstruction results to the surfaces obtained with this method, and try to understand the differences. Report your findings."
   ]
  },
  {
   "cell_type": "code",
   "execution_count": null,
   "metadata": {},
   "outputs": [],
   "source": []
  }
 ],
 "metadata": {
  "kernelspec": {
   "display_name": "Python 3 (ipykernel)",
   "language": "python",
   "name": "python3"
  },
  "language_info": {
   "codemirror_mode": {
    "name": "ipython",
    "version": 3
   },
   "file_extension": ".py",
   "mimetype": "text/x-python",
   "name": "python",
   "nbconvert_exporter": "python",
   "pygments_lexer": "ipython3",
   "version": "3.12.8"
  }
 },
 "nbformat": 4,
 "nbformat_minor": 4
}
