{
 "cells": [
  {
   "cell_type": "markdown",
   "metadata": {},
   "source": [
    "# Neighborhood Computations"
   ]
  },
  {
   "cell_type": "code",
   "execution_count": 1,
   "metadata": {},
   "outputs": [],
   "source": [
    "import numpy as np\n",
    "import igl\n",
    "import meshplot"
   ]
  },
  {
   "cell_type": "code",
   "execution_count": 2,
   "metadata": {},
   "outputs": [],
   "source": [
    "bunny_v, bunny_f = igl.read_triangle_mesh(\"data/bunny.off\") # reading the file in as an off \n",
    "cube_v, cube_f = igl.read_triangle_mesh(\"data/cube.obj\") # reading the file in as an obj \n",
    "sphere_v, sphere_f = igl.read_triangle_mesh(\"data/sphere.obj\")"
   ]
  },
  {
   "cell_type": "code",
   "execution_count": 3,
   "metadata": {},
   "outputs": [
    {
     "data": {
      "application/vnd.jupyter.widget-view+json": {
       "model_id": "f40b093be8fa4a6f82825edaaf32a233",
       "version_major": 2,
       "version_minor": 0
      },
      "text/plain": [
       "Renderer(camera=PerspectiveCamera(children=(DirectionalLight(color='white', intensity=0.6, position=(-0.016860…"
      ]
     },
     "metadata": {},
     "output_type": "display_data"
    },
    {
     "data": {
      "text/plain": [
       "<meshplot.Viewer.Viewer at 0x1129cf4a0>"
      ]
     },
     "execution_count": 3,
     "metadata": {},
     "output_type": "execute_result"
    }
   ],
   "source": [
    "meshplot.plot(bunny_v, bunny_f, shading={\"wireframe\": True})"
   ]
  },
  {
   "cell_type": "code",
   "execution_count": 7,
   "metadata": {},
   "outputs": [
    {
     "data": {
      "application/vnd.jupyter.widget-view+json": {
       "model_id": "6b4c968182074eb39e8775bd1e717ed0",
       "version_major": 2,
       "version_minor": 0
      },
      "text/plain": [
       "Renderer(camera=PerspectiveCamera(children=(DirectionalLight(color='white', intensity=0.6, position=(0.0, 0.0,…"
      ]
     },
     "metadata": {},
     "output_type": "display_data"
    },
    {
     "data": {
      "text/plain": [
       "<meshplot.Viewer.Viewer at 0x112a21940>"
      ]
     },
     "execution_count": 7,
     "metadata": {},
     "output_type": "execute_result"
    }
   ],
   "source": [
    "meshplot.plot(cube_v, cube_f, shading={\"wireframe\": True})"
   ]
  },
  {
   "cell_type": "code",
   "execution_count": 23,
   "metadata": {},
   "outputs": [
    {
     "data": {
      "application/vnd.jupyter.widget-view+json": {
       "model_id": "6c9e18caea554cfbb8eb2cb32169a178",
       "version_major": 2,
       "version_minor": 0
      },
      "text/plain": [
       "Renderer(camera=PerspectiveCamera(children=(DirectionalLight(color='white', intensity=0.6, position=(0.0, 0.0,…"
      ]
     },
     "metadata": {},
     "output_type": "display_data"
    },
    {
     "data": {
      "text/plain": [
       "<meshplot.Viewer.Viewer at 0x11543bd10>"
      ]
     },
     "execution_count": 23,
     "metadata": {},
     "output_type": "execute_result"
    }
   ],
   "source": [
    "meshplot.plot(sphere_v, sphere_f, shading={\"wireframe\": True})"
   ]
  },
  {
   "cell_type": "code",
   "execution_count": 24,
   "metadata": {},
   "outputs": [
    {
     "name": "stdout",
     "output_type": "stream",
     "text": [
      "3485\n"
     ]
    }
   ],
   "source": [
    "print(bunny_v.shape[0])"
   ]
  },
  {
   "cell_type": "markdown",
   "metadata": {},
   "source": [
    "## Simple Neighborhood Calculations - Notes\n",
    "- Mesh can be considered as an undirected graph\n",
    "- To pick faces that are neighboring to a vertex, you can go through all the faces, and see which one includes the vertex we're looking at (one option)\n",
    "- In this assignemnt, we will use vertex adjecencies\n",
    "\n",
    "Required output of this section:\n",
    "- A text dump of the content of the two data structures for the provided mesh bunny_small.off."
   ]
  },
  {
   "cell_type": "markdown",
   "metadata": {
    "scrolled": true
   },
   "source": [
    "### Vertex-to-Face Relations\n",
    "Given V and F, generate an adjacency list which contains, for each vertex, a list of faces adjacent to it. The ordering of the faces incident on a vertex does not matter. Your program should print out the vertex-to-face relations.\n",
    "\n",
    "Relevant `igl` functions: `igl.vertex_triangle_adjacency`"
   ]
  },
  {
   "cell_type": "code",
   "execution_count": 25,
   "metadata": {},
   "outputs": [],
   "source": [
    "\"\"\"\n",
    "We want a list of faces per each vertex.\n",
    "VF (list w/ dimension 3*#F) \n",
    "- List of faces indice on each vertex, so that VF(NI(i)+j) =\n",
    "f, means that face f is the jth face (in no particular order) incident\n",
    "on vertex i.\n",
    "NI (list w/ dim #V+1)\n",
    "- List of the cumulative sum of vertex-triangle degrees with a\n",
    "preceeding zero. “How many faces” have been seen before visiting this\n",
    "vertex and its incident faces.\n",
    "\"\"\"\n",
    "V = bunny_v\n",
    "F = bunny_f\n",
    "VF, NI = igl.vertex_triangle_adjacency(F, V.shape[0]); \n",
    "# had to use shape because F.maxcoeff had error: 'numpy.ndarray' object has no attribute 'maxCoeff'"
   ]
  },
  {
   "cell_type": "code",
   "execution_count": 26,
   "metadata": {},
   "outputs": [
    {
     "name": "stdout",
     "output_type": "stream",
     "text": [
      "[ 849  850  912 ... 1500 5112 5264]\n",
      "[    0     5     9 ... 20884 20891 20898]\n"
     ]
    }
   ],
   "source": [
    "print(VF) # flattened array of face indeces adjacent to each vertex \n",
    "print(NI) # array with cumulative sum of degrees per vertex\n",
    "\n",
    "nv = V.shape[0] # number of vertices\n",
    "#NI[1] = degree of vertex 1, NI[2]-NI[1] = degree of vertex 2\n",
    "# print(NI[1])\n",
    "# print(NI[2])\n",
    "# print(NI[3])\n",
    "adjacency_list = {}\n",
    "for i in range(1, nv+1): # for each vertex \n",
    "    degree = NI[i]-NI[i-1] # degree of vertex, i.\n",
    "    face_list = []\n",
    "    for j in range(degree): # get the faces \n",
    "        face_list.append(int(VF[NI[i-1]+j])) # NI[i-1] because that's the index of the vertex?\n",
    "    adjacency_list[i] = face_list\n",
    "\n",
    "#print(adjacency_list)"
   ]
  },
  {
   "cell_type": "markdown",
   "metadata": {},
   "source": [
    "### Vertex-to-Vertex Relations\n",
    "Given V and F, generate an adjacency list which contains, for each vertex, a list of vertices connected with it. Two vertices are connected if there exists an edge between them, i.e., if the two vertices appear in the same row of F. The ordering of the vertices in each list does not matter. Your program should print out the vertex-to-vertex relations.\n",
    "\n",
    "Relevant igl functions: igl.adjacency_list."
   ]
  },
  {
   "cell_type": "code",
   "execution_count": 148,
   "metadata": {},
   "outputs": [],
   "source": [
    "V = cube_v\n",
    "F = cube_f\n",
    "a = igl.adjacency_list(F)"
   ]
  },
  {
   "cell_type": "code",
   "execution_count": 160,
   "metadata": {},
   "outputs": [
    {
     "name": "stdout",
     "output_type": "stream",
     "text": [
      "[1, 2, 4, 6, 7]\n"
     ]
    }
   ],
   "source": [
    "print(a[0])"
   ]
  },
  {
   "cell_type": "markdown",
   "metadata": {},
   "source": [
    "### Visualizing the Neighborhood Relations\n",
    "\n",
    "Check your results by comparing them to raw data inside F.\n",
    "\n",
    "A text dump of the content of the two data structures for the provided mesh bunny_small.off."
   ]
  },
  {
   "cell_type": "markdown",
   "metadata": {},
   "source": [
    "In order to check, I will consider the fact that the number of adjacent vertices to a vertex = number of incident edges to that vertex. If I calculated these correctly, and they're equal.  "
   ]
  },
  {
   "cell_type": "code",
   "execution_count": 28,
   "metadata": {},
   "outputs": [],
   "source": [
    "lengths_a = [];\n",
    "for i in a: \n",
    "    lengths_a.append(len(i))"
   ]
  },
  {
   "cell_type": "code",
   "execution_count": 29,
   "metadata": {},
   "outputs": [],
   "source": [
    "lengths_adj_list = [];\n",
    "for i in adjacency_list: \n",
    "    lengths_adj_list.append(len(adjacency_list[i]))"
   ]
  },
  {
   "cell_type": "code",
   "execution_count": 30,
   "metadata": {},
   "outputs": [
    {
     "name": "stdout",
     "output_type": "stream",
     "text": [
      "True\n"
     ]
    }
   ],
   "source": [
    "print(lengths_a == lengths_adj_list)"
   ]
  },
  {
   "cell_type": "markdown",
   "metadata": {},
   "source": [
    "## Shading\n",
    "\n",
    "For this task, you will experiment with the different ways of shading discrete surfaces already implemented in `igl`. Display the mesh with the appropriate shading.\n",
    "\n",
    "Use `meshplot.plot(v,f, n=n, shading={\"flat\": False})` to set the shading in the viewer to use the normals `n` you computed.\n",
    "\n",
    "You can visualise normals `n` by using meshplot as following\n",
    "\n",
    "```\n",
    "p = meshplot.plot(v, f, n=n, shading={\"flat\": False})\n",
    "p.add_lines(v, v + 0.01*n)\n",
    "```\n",
    "\n",
    "The scaling `0.01` is used to scale the lines to a reasonable size; that is, for the cube `0.5` is ok, while for the sphere `0.01` is better.\n",
    "\n",
    "Note: `meshplot` supports only per-vertex normals; thus, to visualize the different shading you will need to \"explode\" the mesh. That is, separate all faces and duplicate vertices. For instance, if the mesh has faces `f=[[0, 1, 2], [1, 3, 2]]` (with vertices `1` and `2` shared among the two faces), `exploded_f=[[0, 1, 2], [3, 4, 5]]` with the vertices `3` and `5` being a copy of vertices `1` and `2`. Note that `igl` will give you per-vertex, per-face, and per-vertex-per-face quantities, so you will need to compute and store an index mapping from the input mesh to the exploded one.\n",
    "\n",
    "#### Meshplot requires per vertex normals, so we need to \"explode\" the mesh\n",
    "\n",
    "Required output of this section:\n",
    "- Screenshots of the provided meshes shaded with flat, per-vertex, and per-corner normals.\n"
   ]
  },
  {
   "cell_type": "code",
   "execution_count": 31,
   "metadata": {},
   "outputs": [
    {
     "name": "stdout",
     "output_type": "stream",
     "text": [
      "[[2784 2497 2027]\n",
      " [1077  225 1060]\n",
      " [ 425  450  381]\n",
      " ...\n",
      " [3086 3203 3162]\n",
      " [3086 3162 3151]\n",
      " [3086 3151 3085]]\n"
     ]
    }
   ],
   "source": [
    "print(bunny_f)"
   ]
  },
  {
   "cell_type": "code",
   "execution_count": 32,
   "metadata": {},
   "outputs": [],
   "source": [
    "bunny_vertex_mapping = {}\n",
    "exploded_bunny = np.copy(bunny_f)\n",
    "new_number = max(bunny_f.flatten())+1\n",
    "for i in range(bunny_f.shape[0]):\n",
    "    for j in range(3):\n",
    "        vertex = bunny_f[i,j]\n",
    "        if vertex not in bunny_vertex_mapping:\n",
    "            bunny_vertex_mapping[vertex] = [vertex]\n",
    "        else:\n",
    "            exploded_bunny[i,j]=new_number\n",
    "            bunny_vertex_mapping[vertex].append(new_number)\n",
    "            new_number = new_number +1"
   ]
  },
  {
   "cell_type": "code",
   "execution_count": 33,
   "metadata": {},
   "outputs": [],
   "source": [
    "def explode(mesh_f, mesh_v):\n",
    "    mesh_vertex_mapping = {}\n",
    "    exploded_mesh = np.copy(mesh_f)\n",
    "    exploded_mesh_v = np.copy(mesh_v)\n",
    "    vertices_to_copy = []\n",
    "    new_number = max(mesh_f.flatten())+1\n",
    "    for i in range(mesh_f.shape[0]):\n",
    "        for j in range(3):\n",
    "            vertex = mesh_f[i,j]\n",
    "            if vertex not in mesh_vertex_mapping:\n",
    "                mesh_vertex_mapping[vertex] = [vertex]\n",
    "            else:\n",
    "                exploded_mesh[i,j]=new_number\n",
    "                vertices_to_copy.append(vertex)\n",
    "                mesh_vertex_mapping[vertex].append(new_number)\n",
    "                new_number = new_number +1\n",
    "    # print(vertices_to_copy)\n",
    "    for i in vertices_to_copy:\n",
    "        exploded_mesh_v = np.concatenate((exploded_mesh_v, exploded_mesh_v[i].reshape(1, -1)))\n",
    "    return exploded_mesh, exploded_mesh_v, mesh_vertex_mapping"
   ]
  },
  {
   "cell_type": "code",
   "execution_count": 34,
   "metadata": {},
   "outputs": [],
   "source": [
    " exploded_bf, exploded_bv, exploded_mapb = explode(bunny_f, bunny_v)\n",
    " exploded_cf, exploded_cv, exploded_mapc = explode(cube_f, cube_v)"
   ]
  },
  {
   "cell_type": "markdown",
   "metadata": {},
   "source": [
    "### Flat Shading\n",
    "The simplest shading technique is flat shading, where each polygon of an object is colored based on the angle between the polygon's surface normal and the direction of the light source, their respective colors, and the intensity of the light source. With flat shading, all vertices of a polygon are colored identically. Your program should compute the appropriate shading normals and shade the input mesh with flat shading.\n",
    "\n",
    "Relevant igl functions: `igl.per_face_normals`."
   ]
  },
  {
   "cell_type": "code",
   "execution_count": 35,
   "metadata": {},
   "outputs": [
    {
     "name": "stdout",
     "output_type": "stream",
     "text": [
      "[[-0.01974875  0.09941629 -0.99484993]\n",
      " [-0.98445225  0.06614112 -0.16272408]\n",
      " [-0.22538367  0.97105059 -0.07913883]\n",
      " ...\n",
      " [ 0.14012873 -0.98286055 -0.11978763]\n",
      " [ 0.31463126 -0.94851803  0.03634166]\n",
      " [ 0.13151583 -0.97764113 -0.16407743]]\n",
      "(20898, 3)\n",
      "(20898, 3)\n",
      "(6966, 3)\n"
     ]
    },
    {
     "data": {
      "application/vnd.jupyter.widget-view+json": {
       "model_id": "23b8fe14df59484d893e3e7bd5be29d9",
       "version_major": 2,
       "version_minor": 0
      },
      "text/plain": [
       "Renderer(camera=PerspectiveCamera(children=(DirectionalLight(color='white', intensity=0.6, position=(-0.016860…"
      ]
     },
     "metadata": {},
     "output_type": "display_data"
    },
    {
     "name": "stdout",
     "output_type": "stream",
     "text": [
      "[[ 0.  0.  1.]\n",
      " [-0.  0.  1.]\n",
      " [-0.  1.  0.]\n",
      " [ 0.  1.  0.]\n",
      " [ 0.  0. -1.]\n",
      " [ 0.  0. -1.]\n",
      " [ 0. -1.  0.]\n",
      " [ 0. -1.  0.]\n",
      " [ 1. -0.  0.]\n",
      " [ 1.  0.  0.]\n",
      " [-1.  0.  0.]\n",
      " [-1.  0.  0.]]\n",
      "(36, 3)\n",
      "(36, 3)\n",
      "(12, 3)\n"
     ]
    },
    {
     "data": {
      "application/vnd.jupyter.widget-view+json": {
       "model_id": "a35fbfa16a1c44b0a07a405240de79a8",
       "version_major": 2,
       "version_minor": 0
      },
      "text/plain": [
       "Renderer(camera=PerspectiveCamera(children=(DirectionalLight(color='white', intensity=0.6, position=(0.0, 0.0,…"
      ]
     },
     "metadata": {},
     "output_type": "display_data"
    }
   ],
   "source": [
    "\"\"\"\n",
    "per_face_normals(v: array, f: array, z: array)\n",
    "\n",
    "V #V by 3 eigen Matrix of mesh vertex 3D positions\n",
    "F #F by 3 eigen Matrix of face (triangle) indices\n",
    "Z 3 vector normal given to faces with degenerate normal.\n",
    "\n",
    "Returns\tN #F by 3 eigen Matrix of mesh face (triangle) 3D normals\n",
    "\"\"\"\n",
    "# z = Vector3d(1,1,1).normalized() # Give degenerate faces (1/3,1/3,1/3)^0.5\n",
    "def flatShade_old(v,f):\n",
    "    z = np.array([1/3,1/3,1/3])\n",
    "    v = v\n",
    "    f = f\n",
    "    n = igl.per_face_normals(v, f, z)\n",
    "    print(n)\n",
    "    print(v.shape)\n",
    "    print(f.shape)\n",
    "    p = meshplot.plot(v, f, n=n, shading={\"flat\": False})\n",
    "    p.add_lines(v, v + 0.01*n)\n",
    "\n",
    "\"\"\"\n",
    "flatShade shades the model based on the normals by \n",
    "    1. computing the face normals\n",
    "    2. assign the vertices the normals of the face \n",
    "\"\"\"\n",
    "def flatShade(v,f):\n",
    "    z = np.array([1/3,1/3,1/3])\n",
    "    v = v\n",
    "    f = f\n",
    "    n = igl.per_face_normals(v, f, z)\n",
    "    new_n = np.copy(v) \n",
    "    # loop through all the normals -> get face index (corresponding to normal) -> find vertices for face -> save to new normals array\n",
    "    for idx, normal in enumerate(n):\n",
    "        for vert in f[idx]:\n",
    "            new_n[vert] = normal\n",
    "    print(n)\n",
    "    print(new_n.shape)\n",
    "    print(v.shape)\n",
    "    print(f.shape)\n",
    "    p = meshplot.plot(v, f, n=new_n, shading={\"flat\": False})\n",
    "    # p.add_lines(v, v + 0.01*new_n)\n",
    "    \n",
    "flatShade(exploded_bv, exploded_bf)\n",
    "flatShade(exploded_cv, exploded_cf)"
   ]
  },
  {
   "cell_type": "markdown",
   "metadata": {},
   "source": [
    "### Per-vertex Shading\n",
    "Flat shading may produce visual artifacts, due to the color discontinuity between neighboring faces. Specular highlights may be rendered poorly with flat shading. When per-vertex shading is used, per-vertex normals are computed for each vertex by averaging the normals of the surrounding faces. Your program should compute the appropriate shading normals and shade the input mesh with per-vertex shading.\n",
    "\n",
    "Relevant igl functions: igl.per_vertex_normals."
   ]
  },
  {
   "cell_type": "code",
   "execution_count": 36,
   "metadata": {},
   "outputs": [
    {
     "name": "stdout",
     "output_type": "stream",
     "text": [
      "[[-0.3244438   0.63479412  0.70126504]\n",
      " [ 0.69665946  0.04959323  0.71568576]\n",
      " [-0.31520596  0.88800006  0.33481502]\n",
      " ...\n",
      " [ 0.43044974 -0.89412873  0.12347808]\n",
      " [-0.43673556 -0.78064839 -0.44704602]\n",
      " [ 0.03755881 -0.70155862 -0.71162128]]\n",
      "(3485, 3)\n",
      "(6966, 3)\n"
     ]
    },
    {
     "data": {
      "application/vnd.jupyter.widget-view+json": {
       "model_id": "2781d94ab38d4842b6a882205b87b55c",
       "version_major": 2,
       "version_minor": 0
      },
      "text/plain": [
       "Renderer(camera=PerspectiveCamera(children=(DirectionalLight(color='white', intensity=0.6, position=(-0.016860…"
      ]
     },
     "metadata": {},
     "output_type": "display_data"
    },
    {
     "name": "stdout",
     "output_type": "stream",
     "text": [
      "[[-0.66666667 -0.66666667  0.33333333]\n",
      " [ 0.40824829 -0.40824829  0.81649658]\n",
      " [-0.40824829  0.40824829  0.81649658]\n",
      " [ 0.66666667  0.66666667  0.33333333]\n",
      " [-0.66666667  0.66666667 -0.33333333]\n",
      " [ 0.40824829  0.40824829 -0.81649658]\n",
      " [-0.40824829 -0.40824829 -0.81649658]\n",
      " [ 0.66666667 -0.66666667 -0.33333333]]\n",
      "(8, 3)\n",
      "(12, 3)\n"
     ]
    },
    {
     "data": {
      "application/vnd.jupyter.widget-view+json": {
       "model_id": "e141978109634bb1b0781594a0c87624",
       "version_major": 2,
       "version_minor": 0
      },
      "text/plain": [
       "Renderer(camera=PerspectiveCamera(children=(DirectionalLight(color='white', intensity=0.6, position=(0.0, 0.0,…"
      ]
     },
     "metadata": {},
     "output_type": "display_data"
    }
   ],
   "source": [
    "\"\"\"\n",
    "per_vertex_normals(v: array, f: array, z: array)\n",
    "\n",
    "V #V by 3 eigen Matrix of mesh vertex 3D positions\n",
    "F #F by 3 eigen Matrix of face (triangle) indices\n",
    "weighting type \n",
    "    -igl.PER_VERTEX_NORMALS_WEIGHTING_TYPE_UNIFORM uniform influence\n",
    "    -igl.PER_VERTEX_NORMALS_WEIGHTING_TYPE_AREA area weighted\n",
    "    -igl.PER_VERTEX_NORMALS_WEIGHTING_TYPE_ANGLE angle weighted\n",
    "    \n",
    "Returns\tN, #V by 3 eigen Matrix of mesh face (triangle) 3D normals\n",
    "\"\"\"\n",
    "# z = Vector3d(1,1,1).normalized() # Give degenerate faces (1/3,1/3,1/3)^0.5\n",
    "def gouraudShade(v,f):\n",
    "    z = np.array([1/3,1/3,1/3])\n",
    "    v = v\n",
    "    f = f\n",
    "    n = igl.per_vertex_normals(v, f, igl.PER_VERTEX_NORMALS_WEIGHTING_TYPE_UNIFORM)\n",
    "    print(n)\n",
    "    print(v.shape)\n",
    "    print(f.shape)\n",
    "    p = meshplot.plot(v, f, n=n, shading={\"flat\": False, \"wireframe\": False})\n",
    "    # p.add_lines(v, v + 0.005*n)\n",
    "\n",
    "gouraudShade(bunny_v, bunny_f)\n",
    "gouraudShade(cube_v, cube_f)"
   ]
  },
  {
   "cell_type": "markdown",
   "metadata": {},
   "source": [
    "### Per-corner Shading\n",
    "On models with sharp feature lines, averaging the per-face normals on the feature, as done for per-vertex shading, may result in blurred rendering. It is possible to avoid this limitation and to render crisp sharp features by using per-corner normals. In this case, a different normal is assigned to each face corner; this implies that every vertex will get a (possibly different) normal for every adjacent face. A threshold parameter is used to decide when an edge belongs to a sharp feature. The threshold is applied to the angle between the two corner normals: if it is less than the threshold value, the normals must be averaged, otherwise they are kept untouched. Your program should compute the appropriate shading normals (with a threshold of your choice) and shade the input mesh with per-vertex shading.\n",
    "\n",
    "Relevant igl functions: igl.per_corner_normals.\n",
    "\n",
    "Compare the result must be compared with the one obtained with flat and per-vertex shading. Experiment with the threshold value.\n",
    "\n",
    "Required output of this section:\n",
    "\n",
    "Screenshots of the provided meshes shaded with flat, per-vertex, and per-corner normals."
   ]
  },
  {
   "cell_type": "code",
   "execution_count": 42,
   "metadata": {},
   "outputs": [],
   "source": [
    "\"\"\"\n",
    "Parameters\n",
    "----------\n",
    "V  exploded vertices\n",
    "F  exploded faces\n",
    "t  threshold in degrees on sharp angles\n",
    "\n",
    "Returns\n",
    "-------\n",
    "shaded mesh \n",
    "CN  #F*3 by 3 eigen Matrix of mesh vertex 3D normals, where the normal for corner F(i,j) is at CN(i*3+j,:)\n",
    "\"\"\"\n",
    "def percornerShade(v,f, t): # threshold \n",
    "    n = igl.per_corner_normals(v, f, t)\n",
    "    new_n = np.copy(v) \n",
    "    # loop through all the normals -> get face index (corresponding to normal) -> find vertices for face -> save to new normals array\n",
    "    for idx, normal in enumerate(n):\n",
    "        for vert in f[idx]:\n",
    "            new_n[vert] = normal\n",
    "    print(n)\n",
    "    print(new_n.shape)\n",
    "    print(v.shape)\n",
    "    print(f.shape)\n",
    "    p = meshplot.plot(v, f, n=new_n, shading={\"flat\": False})"
   ]
  },
  {
   "cell_type": "code",
   "execution_count": 205,
   "metadata": {
    "scrolled": true
   },
   "outputs": [
    {
     "ename": "IndexError",
     "evalue": "index 6966 is out of bounds for axis 0 with size 6966",
     "output_type": "error",
     "traceback": [
      "\u001b[0;31m---------------------------------------------------------------------------\u001b[0m",
      "\u001b[0;31mIndexError\u001b[0m                                Traceback (most recent call last)",
      "Cell \u001b[0;32mIn[205], line 1\u001b[0m\n\u001b[0;32m----> 1\u001b[0m \u001b[43mpercornerShade\u001b[49m\u001b[43m(\u001b[49m\u001b[43mexploded_bv\u001b[49m\u001b[43m,\u001b[49m\u001b[43m \u001b[49m\u001b[43mexploded_bf\u001b[49m\u001b[43m,\u001b[49m\u001b[43m \u001b[49m\u001b[38;5;241;43m10\u001b[39;49m\u001b[43m)\u001b[49m\n",
      "Cell \u001b[0;32mIn[42], line 18\u001b[0m, in \u001b[0;36mpercornerShade\u001b[0;34m(v, f, t)\u001b[0m\n\u001b[1;32m     16\u001b[0m \u001b[38;5;66;03m# loop through all the normals -> get face index (corresponding to normal) -> find vertices for face -> save to new normals array\u001b[39;00m\n\u001b[1;32m     17\u001b[0m \u001b[38;5;28;01mfor\u001b[39;00m idx, normal \u001b[38;5;129;01min\u001b[39;00m \u001b[38;5;28menumerate\u001b[39m(n):\n\u001b[0;32m---> 18\u001b[0m     \u001b[38;5;28;01mfor\u001b[39;00m vert \u001b[38;5;129;01min\u001b[39;00m \u001b[43mf\u001b[49m\u001b[43m[\u001b[49m\u001b[43midx\u001b[49m\u001b[43m]\u001b[49m:\n\u001b[1;32m     19\u001b[0m         new_n[vert] \u001b[38;5;241m=\u001b[39m normal\n\u001b[1;32m     20\u001b[0m \u001b[38;5;28mprint\u001b[39m(n)\n",
      "\u001b[0;31mIndexError\u001b[0m: index 6966 is out of bounds for axis 0 with size 6966"
     ]
    }
   ],
   "source": [
    "percornerShade(exploded_bv, exploded_bf, 10)"
   ]
  },
  {
   "cell_type": "markdown",
   "metadata": {},
   "source": [
    "## Connected Components\n",
    "Using neighborhood connectivity, it is possible to partition a mesh into connected components, where each mesh face belongs only to a single component. Fill in the appropriate source code sections to display the mesh with each face colored to indicate the component it belongs to (coloring each component distinctly).\n",
    "\n",
    "Relevant igl functions: igl.face_components\n",
    "\n",
    "Call meshplot.plot(v, f, c=c), where c is the computed labels to display colors to the per-face colors you computed.\n",
    "\n",
    "Required output of this section:\n",
    "- Screenshots of the provided meshes with each connected component colored differently.\n",
    "- The number of connected components and the size of each component (measured in number of faces) for all the provided models."
   ]
  },
  {
   "cell_type": "code",
   "execution_count": null,
   "metadata": {},
   "outputs": [],
   "source": []
  },
  {
   "cell_type": "markdown",
   "metadata": {},
   "source": [
    "## A simple subdivision scheme\n",
    "![](img/sqrt.png?raw=true)\n",
    "\n",
    "√3 Subdivision. From left to right: original mesh, added\n",
    "vertices at the midpoints of the faces (step 1), connecting the new points\n",
    "to the original mesh (step 1), flipping the original edges to obtain a new\n",
    "set of faces (step 3). Step 2 involves shifting the original vertices and is\n",
    "not shown.\n",
    "\n",
    "For this task, you will implement the subdivision scheme described in\n",
    "[Kobbelt00sqrt(3)-subdivision](https://www.graphics.rwth-aachen.de/media/papers/sqrt31.pdf) to\n",
    "iteratively create finer meshes from a given coarse mesh.\n",
    "According to the paper, given a mesh `(V, F)`, the √3-subdivision scheme creates a new mesh `(V', F')`\n",
    "by applying the following rules:\n",
    "\n",
    " 1. Add a new vertex at location `m_f` for each face `f` in `F` of the original mesh.\n",
    "    The new vertex will be located at the midpoint of the face.\n",
    "    Append the newly created vertices `M = {m_f}` to `V` to create a new set of vertices `V'' = [V; M]`.\n",
    "    Add three new faces for each face f in order by connecting `m_f` with edges to the original 3\n",
    "    vertices of the face; we call the set of this newly created faces `F''`.\n",
    "    <!-- Replace the old set of faces `F` with `F''`. -->\n",
    " 2. Move each vertex `v` of the old vertices `V` to a new position `p` by averaging `v` with the positions of its neighboring vertices in the *original* mesh.\n",
    "    If `v` has valence `n` and its neighbors in the original mesh `(V, F)` are `v_0`, `v_1`, ...,  `v_n`, then the update rule is<br/>\n",
    "    ![](https://latex.codecogs.com/png.latex?\\fg_gray%20p=(1-a_n)v&plus;\\frac{a_n}{n}\\sum\\limits_{i=0}^{n-1}v_i)<br/>\n",
    "    <!-- p = (1-a_n) v + \\frac{a_n}{n}\\sum\\limits_{i=0}^{n-1} v_i -->where<br/>\n",
    "    ![](https://latex.codecogs.com/png.latex?\\fg_gray%20a_n=\\frac{4-2\\cos\\left(\\frac{2\\pi}{n}\\right)}{9}.)<br/>\n",
    "    <!-- a_n=\\frac{4-2\\cos\\left(\\frac{2\\pi}{n}\\right)}{9} -->\n",
    "    The vertex set of the subdivided mesh is then `V' = [P, M]`, where `P` is the concatenation of the new positions `p` for all vertices.\n",
    "  3. Replace the `F''` with a new set of faces `F'` such that the edges connecting the newly added points `M` to `P` (the relocated original vertices) remain but the original edges of the mesh connecting points in `M` to each other are flipped.\n",
    "\n",
    "![](img/subdivision.png?raw=true)\n",
    "\n",
    "Fill in the appropriate source code sections so that hitting the mesh is subdivided and displayed.\n",
    "\n",
    "*Relevant `igl` functions:* Many options possible.\n",
    "Some suggestions: `adjacency_list`, `triangle_triangle_adjacency`, `edge_topology`, `barycenter`.\n",
    "\n",
    "\n",
    "Required output of this section:\n",
    "\n",
    "* Screenshots of the subdivided meshes."
   ]
  },
  {
   "cell_type": "code",
   "execution_count": 237,
   "metadata": {},
   "outputs": [],
   "source": [
    "import math\n",
    "\n",
    "def subdivideMesh(v, f):\n",
    "    \"\"\" STEP 1\"\"\"\n",
    "    new_vertices = []\n",
    "    connect_idx = {}\n",
    "    current_idx = len(v)\n",
    "    # for each face `f` in `F` of the original mesh, add a new vertex at location `m_f`\n",
    "    for face in f:\n",
    "        new_v = (v[face][0]+v[face][1]+v[face][2])/3\n",
    "        new_vertices.append(new_v)\n",
    "        connect_idx[current_idx] = [face[0],face[1],face[2]]\n",
    "        current_idx = current_idx+1\n",
    "    #  Append the newly created vertices `M = {m_f}` to `V` to create a new set of vertices `V'' = [V; M]`.\n",
    "    m = np.array(new_vertices)\n",
    "    vpp = np.concatenate((v, m), axis=0)\n",
    "    # Plotting new vertices \n",
    "    mp.plot(v, f, return_plot=True, shading={\"flat\": True, \"wireframe\": True}).add_points(m, shading={\"point_color\": \"red\", \"point_size\": 0.1})\n",
    "    # Add three new faces for each face f in order by connecting `m_f` with edges to the original 3 vertices of the face; we call the set of this newly created faces `F''`.\n",
    "    new_faces = [] \n",
    "    for idx,vert in enumerate(m):\n",
    "        new_vert_idx = idx+len(v)\n",
    "        new_faces.append([new_vert_idx, connect_idx[new_vert_idx][0], connect_idx[new_vert_idx][1]])\n",
    "        new_faces.append([new_vert_idx, connect_idx[new_vert_idx][1], connect_idx[new_vert_idx][2]])\n",
    "        new_faces.append([new_vert_idx, connect_idx[new_vert_idx][0], connect_idx[new_vert_idx][2]])\n",
    "    # Plotting new faces \n",
    "    fpp = np.vstack((f, new_faces))\n",
    "    mp.plot(vpp, fpp, return_plot=True, shading={\"flat\": True, \"wireframe\": True}).add_points(m, shading={\"point_color\": \"red\", \"point_size\": 0.001})\n",
    "    \"\"\" STEP 2\"\"\"\n",
    "    #Move each vertex `v` of the old vertices `V` to a new position `p` by averaging `v` with the positions of its neighboring vertices in the *original* mesh.\n",
    "    adj = igl.adjacency_list(f)\n",
    "    P = []\n",
    "    # print(f\"Number of vertices: {len(v)}\")\n",
    "    # print(f\"Length of adjacency list: {len(adj)}\")\n",
    "    for idx,vert in enumerate(v):\n",
    "        adj_verts = adj[idx]\n",
    "        n_adj_verts = len(adj_verts)\n",
    "        an = (4-2*math.cos((2*math.pi)/n_adj_verts))/9\n",
    "        p = (1-an)*vert\n",
    "        for nb in adj_verts:\n",
    "            p=p+v[nb]*an/n_adj_verts\n",
    "        P.append(p)\n",
    "    Pp = np.array(P)\n",
    "    #  The vertex set of the subdivided mesh is then `V' = [P, M]`, where `P` is the concatenation of the new positions `p` for all vertices.\n",
    "    vp = np.concatenate((Pp,m), axis=0)\n",
    "    mp.plot(vp, f,return_plot=True, shading={\"flat\": True, \"wireframe\": True}).add_points(Pp, shading={\"point_color\": \"red\", \"point_size\": 0.1})\n",
    "    \"\"\"STEP 3\"\"\"\n",
    "    # Replace the `F''` with a new set of faces `F'` such that the edges connecting the newly added points `M` to `P`(the relocated original vertices) \n",
    "        # remain but the original edges of the mesh connecting points in `M` to each other are flipped\n",
    "    #use igl.triangle_triangle_adjacency(f) #  TTi contains the indices of the three adjacent faces for face i, TT is a list of adjacent triangles\n",
    "    fp = [] # this is F'\n",
    "    # go through the vertices not touching the new vertex and then this is an original one? \n",
    "        # there arte always two triangles that contain this edge -- there are two extra vertices (we know bc they're not the og ones\n",
    "        # get rid of the extra triangles and replace them with them flipped \n",
    "        # try doing this on two triangles and not the cube . \n",
    "    # Final mesh plot\n",
    "    plot = mp.plot(vp, fp, return_plot=True, shading={\"flat\": True, \"wireframe\": True})\n",
    "    return vp, fp"
   ]
  },
  {
   "cell_type": "code",
   "execution_count": 235,
   "metadata": {},
   "outputs": [
    {
     "data": {
      "application/vnd.jupyter.widget-view+json": {
       "model_id": "6500e6d5902b439687aaa5bc70b99981",
       "version_major": 2,
       "version_minor": 0
      },
      "text/plain": [
       "Renderer(camera=PerspectiveCamera(children=(DirectionalLight(color='white', intensity=0.6, position=(0.0, 0.0,…"
      ]
     },
     "metadata": {},
     "output_type": "display_data"
    },
    {
     "data": {
      "application/vnd.jupyter.widget-view+json": {
       "model_id": "917b074804ee45eb8737b30f33a811c6",
       "version_major": 2,
       "version_minor": 0
      },
      "text/plain": [
       "Renderer(camera=PerspectiveCamera(children=(DirectionalLight(color='white', intensity=0.6, position=(0.0, 0.0,…"
      ]
     },
     "metadata": {},
     "output_type": "display_data"
    },
    {
     "ename": "AttributeError",
     "evalue": "'numpy.ndarray' object has no attribute 'append'",
     "output_type": "error",
     "traceback": [
      "\u001b[0;31m---------------------------------------------------------------------------\u001b[0m",
      "\u001b[0;31mAttributeError\u001b[0m                            Traceback (most recent call last)",
      "Cell \u001b[0;32mIn[235], line 4\u001b[0m\n\u001b[1;32m      1\u001b[0m \u001b[38;5;66;03m# subdivideMesh(cube_v, cube_f)\u001b[39;00m\n\u001b[1;32m      2\u001b[0m \u001b[38;5;66;03m# meshplot.plot(bunny_v, bunny_f, shading={\"wireframe\": True})\u001b[39;00m\n\u001b[1;32m      3\u001b[0m \u001b[38;5;66;03m# subdivideMesh(bunny_v, bunny_f)\u001b[39;00m\n\u001b[0;32m----> 4\u001b[0m \u001b[43msubdivideMesh\u001b[49m\u001b[43m(\u001b[49m\u001b[43mcube_v\u001b[49m\u001b[43m,\u001b[49m\u001b[43m \u001b[49m\u001b[43mcube_f\u001b[49m\u001b[43m)\u001b[49m\n",
      "Cell \u001b[0;32mIn[234], line 59\u001b[0m, in \u001b[0;36msubdivideMesh\u001b[0;34m(v, f)\u001b[0m\n\u001b[1;32m     57\u001b[0m \u001b[38;5;28;01mif\u001b[39;00m adj_face \u001b[38;5;241m!=\u001b[39m\u001b[38;5;241m-\u001b[39m\u001b[38;5;241m1\u001b[39m:\n\u001b[1;32m     58\u001b[0m     adj_centroid_idx \u001b[38;5;241m=\u001b[39m \u001b[38;5;28mlen\u001b[39m(v)\u001b[38;5;241m+\u001b[39madj_face\n\u001b[0;32m---> 59\u001b[0m     \u001b[43mfp\u001b[49m\u001b[38;5;241;43m.\u001b[39;49m\u001b[43mappend\u001b[49m([new_vert_idx, v0, adj_centroid_idx])\n\u001b[1;32m     60\u001b[0m     fp\u001b[38;5;241m.\u001b[39mappend([new_vert_idx, v1, adj_centroid_idx])\n\u001b[1;32m     61\u001b[0m     fp\u001b[38;5;241m.\u001b[39mappend([new_vert_idx, v2, adj_centroid_idx])\n",
      "\u001b[0;31mAttributeError\u001b[0m: 'numpy.ndarray' object has no attribute 'append'"
     ]
    }
   ],
   "source": [
    "# subdivideMesh(cube_v, cube_f)\n",
    "# meshplot.plot(bunny_v, bunny_f, shading={\"wireframe\": True})\n",
    "# subdivideMesh(bunny_v, bunny_f)\n",
    "subdivideMesh(cube_v, cube_f)"
   ]
  },
  {
   "cell_type": "code",
   "execution_count": null,
   "metadata": {},
   "outputs": [],
   "source": []
  }
 ],
 "metadata": {
  "kernelspec": {
   "display_name": "Python 3 (ipykernel)",
   "language": "python",
   "name": "python3"
  },
  "language_info": {
   "codemirror_mode": {
    "name": "ipython",
    "version": 3
   },
   "file_extension": ".py",
   "mimetype": "text/x-python",
   "name": "python",
   "nbconvert_exporter": "python",
   "pygments_lexer": "ipython3",
   "version": "3.12.8"
  }
 },
 "nbformat": 4,
 "nbformat_minor": 4
}
